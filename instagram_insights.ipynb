{
 "cells": [
  {
   "cell_type": "code",
   "execution_count": 10,
   "id": "8e57c0d3",
   "metadata": {},
   "outputs": [],
   "source": [
    "import pandas as pd\n"
   ]
  },
  {
   "cell_type": "code",
   "execution_count": 25,
   "id": "309d493c",
   "metadata": {},
   "outputs": [],
   "source": [
    "df_comments=pd.read_csv('comments (6).csv')"
   ]
  },
  {
   "cell_type": "code",
   "execution_count": 26,
   "id": "476a6613",
   "metadata": {},
   "outputs": [],
   "source": [
    "#deleting unwanted columns\n",
    "df_comments.drop(['posted date','emoji used','Hashtags used count'],axis=1,inplace=True)\n",
    "#renaming columns\n"
   ]
  },
  {
   "cell_type": "code",
   "execution_count": 27,
   "id": "29a86cf4",
   "metadata": {},
   "outputs": [],
   "source": [
    "#renaming columns\n",
    "df_comments.rename(columns={'User  id':'user_id','comment':'comment_text','Photo id':'photo_id','created Timestamp':'created_at'},inplace=True)"
   ]
  },
  {
   "cell_type": "code",
   "execution_count": 28,
   "id": "a206a98a",
   "metadata": {},
   "outputs": [],
   "source": [
    "df_comments['created_at'] = pd.to_datetime(df_comments['created_at'], format='%d-%m-%Y %H:%M')"
   ]
  },
  {
   "cell_type": "code",
   "execution_count": 29,
   "id": "b5c66158",
   "metadata": {},
   "outputs": [],
   "source": [
    "df_comments.set_index('id', inplace=True)"
   ]
  },
  {
   "cell_type": "code",
   "execution_count": 453,
   "id": "5c8eb24a",
   "metadata": {},
   "outputs": [],
   "source": [
    "follows = pd.read_csv(\"follows (1).csv\")"
   ]
  },
  {
   "cell_type": "code",
   "execution_count": 30,
   "id": "381d74ea",
   "metadata": {},
   "outputs": [
    {
     "data": {
      "text/html": [
       "<div>\n",
       "<style scoped>\n",
       "    .dataframe tbody tr th:only-of-type {\n",
       "        vertical-align: middle;\n",
       "    }\n",
       "\n",
       "    .dataframe tbody tr th {\n",
       "        vertical-align: top;\n",
       "    }\n",
       "\n",
       "    .dataframe thead th {\n",
       "        text-align: right;\n",
       "    }\n",
       "</style>\n",
       "<table border=\"1\" class=\"dataframe\">\n",
       "  <thead>\n",
       "    <tr style=\"text-align: right;\">\n",
       "      <th></th>\n",
       "      <th>comment_text</th>\n",
       "      <th>user_id</th>\n",
       "      <th>photo_id</th>\n",
       "      <th>created_at</th>\n",
       "    </tr>\n",
       "    <tr>\n",
       "      <th>id</th>\n",
       "      <th></th>\n",
       "      <th></th>\n",
       "      <th></th>\n",
       "      <th></th>\n",
       "    </tr>\n",
       "  </thead>\n",
       "  <tbody>\n",
       "    <tr>\n",
       "      <th>1</th>\n",
       "      <td>unde at dolorem</td>\n",
       "      <td>2</td>\n",
       "      <td>1</td>\n",
       "      <td>2023-04-13 08:04:00</td>\n",
       "    </tr>\n",
       "    <tr>\n",
       "      <th>2</th>\n",
       "      <td>quae ea ducimus</td>\n",
       "      <td>3</td>\n",
       "      <td>1</td>\n",
       "      <td>2023-04-13 08:04:00</td>\n",
       "    </tr>\n",
       "    <tr>\n",
       "      <th>3</th>\n",
       "      <td>alias a voluptatum</td>\n",
       "      <td>5</td>\n",
       "      <td>1</td>\n",
       "      <td>2023-04-13 08:04:00</td>\n",
       "    </tr>\n",
       "    <tr>\n",
       "      <th>4</th>\n",
       "      <td>facere suscipit sunt</td>\n",
       "      <td>14</td>\n",
       "      <td>1</td>\n",
       "      <td>2023-04-13 08:04:00</td>\n",
       "    </tr>\n",
       "    <tr>\n",
       "      <th>5</th>\n",
       "      <td>totam eligendi quaerat</td>\n",
       "      <td>17</td>\n",
       "      <td>1</td>\n",
       "      <td>2023-04-13 08:04:00</td>\n",
       "    </tr>\n",
       "  </tbody>\n",
       "</table>\n",
       "</div>"
      ],
      "text/plain": [
       "              comment_text  user_id  photo_id          created_at\n",
       "id                                                               \n",
       "1          unde at dolorem        2         1 2023-04-13 08:04:00\n",
       "2          quae ea ducimus        3         1 2023-04-13 08:04:00\n",
       "3       alias a voluptatum        5         1 2023-04-13 08:04:00\n",
       "4     facere suscipit sunt       14         1 2023-04-13 08:04:00\n",
       "5   totam eligendi quaerat       17         1 2023-04-13 08:04:00"
      ]
     },
     "execution_count": 30,
     "metadata": {},
     "output_type": "execute_result"
    }
   ],
   "source": [
    "df_comments.head()"
   ]
  },
  {
   "cell_type": "code",
   "execution_count": 202,
   "id": "e0b98dfc",
   "metadata": {},
   "outputs": [],
   "source": [
    "# # import packages\n",
    "# import psycopg2\n",
    "# import psycopg2.extras as extras\n",
    "# import pandas as pd\n",
    "  \n",
    "  \n",
    "# def execute_values(conn, df, table):\n",
    "  \n",
    "#     tuples = [tuple(x) for x in df.to_numpy()]\n",
    "  \n",
    "#     cols = ','.join(list(df.columns))\n",
    "  \n",
    "#     # SQL query to execute\n",
    "#     query = \"INSERT INTO %s(%s) VALUES %%s\" % (table, cols)\n",
    "#     cursor = conn.cursor()\n",
    "#     try:\n",
    "#         extras.execute_values(cursor, query, tuples)\n",
    "#         conn.commit()\n",
    "#     except (Exception, psycopg2.DatabaseError) as error:\n",
    "#         print(\"Error: %s\" % error)\n",
    "#         conn.rollback()\n",
    "#         cursor.close()\n",
    "#         return 1\n",
    "#     print(\"execute_values() done\")\n",
    "#     cursor.close()\n",
    "  \n",
    "  \n",
    "# # establishing connection\n",
    "# conn = psycopg2.connect(\n",
    "#     database=\"Airlines_Database\",\n",
    "#     user='postgres',\n",
    "#     password='Merabhola34@',\n",
    "#     host='127.0.0.1',\n",
    "#     port='5432'\n",
    "# )\n",
    "# sql = '''CREATE TABLE airlines_final1(id int ,day\n",
    "# char(20) ,airline char(20),destination char(20));'''\n",
    "  \n",
    "# # creating a cursor\n",
    "# cursor = conn.cursor()\n",
    "# cursor.execute(sql)\n",
    "# data = follows\n",
    "  \n",
    "# data = data[[\"follower_id\", \"followee\", \"created_at\"]]\n",
    "  \n",
    "# # using the function defined\n",
    "# execute_values(conn, data, 'follows')"
   ]
  },
  {
   "cell_type": "code",
   "execution_count": 471,
   "id": "e8444f6a",
   "metadata": {},
   "outputs": [],
   "source": [
    "follows=pd.read_csv('follows (3).csv')\n",
    "follows.drop(['is follower active','followee Acc status'],axis=1,inplace=True)\n"
   ]
  },
  {
   "cell_type": "code",
   "execution_count": 472,
   "id": "05f47416",
   "metadata": {},
   "outputs": [],
   "source": [
    "follows.rename(columns={'follower':'follower_id','followee':'followee_id','created time':'created_at'},inplace=True)"
   ]
  },
  {
   "cell_type": "code",
   "execution_count": 473,
   "id": "4f1e33f4",
   "metadata": {},
   "outputs": [],
   "source": [
    "follows.set_index('follower_id', inplace=True)"
   ]
  },
  {
   "cell_type": "code",
   "execution_count": 476,
   "id": "105416ed",
   "metadata": {},
   "outputs": [
    {
     "data": {
      "text/html": [
       "<div>\n",
       "<style scoped>\n",
       "    .dataframe tbody tr th:only-of-type {\n",
       "        vertical-align: middle;\n",
       "    }\n",
       "\n",
       "    .dataframe tbody tr th {\n",
       "        vertical-align: top;\n",
       "    }\n",
       "\n",
       "    .dataframe thead th {\n",
       "        text-align: right;\n",
       "    }\n",
       "</style>\n",
       "<table border=\"1\" class=\"dataframe\">\n",
       "  <thead>\n",
       "    <tr style=\"text-align: right;\">\n",
       "      <th></th>\n",
       "      <th>followee</th>\n",
       "      <th>created_at</th>\n",
       "    </tr>\n",
       "    <tr>\n",
       "      <th>follower_id</th>\n",
       "      <th></th>\n",
       "      <th></th>\n",
       "    </tr>\n",
       "  </thead>\n",
       "  <tbody>\n",
       "    <tr>\n",
       "      <th>2</th>\n",
       "      <td>1</td>\n",
       "      <td>2023-04-13 08:04:00</td>\n",
       "    </tr>\n",
       "    <tr>\n",
       "      <th>2</th>\n",
       "      <td>3</td>\n",
       "      <td>2023-04-13 08:04:00</td>\n",
       "    </tr>\n",
       "    <tr>\n",
       "      <th>2</th>\n",
       "      <td>4</td>\n",
       "      <td>2023-04-13 08:04:00</td>\n",
       "    </tr>\n",
       "    <tr>\n",
       "      <th>2</th>\n",
       "      <td>5</td>\n",
       "      <td>2023-04-13 08:04:00</td>\n",
       "    </tr>\n",
       "    <tr>\n",
       "      <th>2</th>\n",
       "      <td>6</td>\n",
       "      <td>2023-04-13 08:04:00</td>\n",
       "    </tr>\n",
       "  </tbody>\n",
       "</table>\n",
       "</div>"
      ],
      "text/plain": [
       "             followee           created_at\n",
       "follower_id                               \n",
       "2                    1 2023-04-13 08:04:00\n",
       "2                    3 2023-04-13 08:04:00\n",
       "2                    4 2023-04-13 08:04:00\n",
       "2                    5 2023-04-13 08:04:00\n",
       "2                    6 2023-04-13 08:04:00"
      ]
     },
     "execution_count": 476,
     "metadata": {},
     "output_type": "execute_result"
    }
   ],
   "source": [
    "follows.head()"
   ]
  },
  {
   "cell_type": "code",
   "execution_count": 474,
   "id": "1b945124",
   "metadata": {},
   "outputs": [],
   "source": [
    "\n",
    "follows['created_at'] = pd.to_datetime(follows['created_at'], format='%d-%m-%Y %H:%M')"
   ]
  },
  {
   "cell_type": "code",
   "execution_count": 31,
   "id": "b0a409fe",
   "metadata": {},
   "outputs": [],
   "source": [
    "df_likes = pd.read_csv('likes (3).csv')\n"
   ]
  },
  {
   "cell_type": "code",
   "execution_count": 35,
   "id": "fa3212bb",
   "metadata": {},
   "outputs": [],
   "source": [
    "df_likes.set_index('user_id', inplace=True)"
   ]
  },
  {
   "cell_type": "code",
   "execution_count": 445,
   "id": "c6fb4f69",
   "metadata": {},
   "outputs": [
    {
     "name": "stdout",
     "output_type": "stream",
     "text": [
      "(8782, 4)\n"
     ]
    }
   ],
   "source": [
    "# df_likes.set_index('user_id', inplace=True)\n",
    "print(df_likes.shape)"
   ]
  },
  {
   "cell_type": "code",
   "execution_count": 32,
   "id": "debdc298",
   "metadata": {},
   "outputs": [],
   "source": [
    "df_likes.drop(['following or not','like type'],axis=1,inplace=True)"
   ]
  },
  {
   "cell_type": "code",
   "execution_count": 33,
   "id": "bd5e4fed",
   "metadata": {},
   "outputs": [],
   "source": [
    "df_likes.rename(columns={'user ':'user_id', 'photo':'photo_id','created time':'created_at'},inplace=True)"
   ]
  },
  {
   "cell_type": "code",
   "execution_count": 34,
   "id": "72996219",
   "metadata": {},
   "outputs": [],
   "source": [
    "\n",
    "df_likes['created_at'] = pd.to_datetime(df_likes['created_at'], format='%d-%m-%Y %H:%M')"
   ]
  },
  {
   "cell_type": "code",
   "execution_count": 44,
   "id": "69606061",
   "metadata": {},
   "outputs": [],
   "source": [
    "df_photo_tags = pd.read_csv('photo_tags.csv')"
   ]
  },
  {
   "cell_type": "code",
   "execution_count": 437,
   "id": "cbf57754",
   "metadata": {},
   "outputs": [],
   "source": [
    "\n",
    "df_likes['user_id'] = df_likes['user '].astype(int)\n"
   ]
  },
  {
   "cell_type": "code",
   "execution_count": 45,
   "id": "c3200e9a",
   "metadata": {},
   "outputs": [],
   "source": [
    "df_photo_tags.drop(['user id'],axis=1,inplace=True)"
   ]
  },
  {
   "cell_type": "code",
   "execution_count": 46,
   "id": "31463624",
   "metadata": {},
   "outputs": [],
   "source": [
    "df_photo_tags.rename(columns={'photo':'photo_id','tag ID':'tag_id'},inplace=True)"
   ]
  },
  {
   "cell_type": "code",
   "execution_count": 515,
   "id": "1e7e9b54",
   "metadata": {},
   "outputs": [],
   "source": [
    "# df_photo_tags['created_at'] = pd.to_datetime(df_photo_tags['created_at'], format='%d-%m-%Y %H:%M')"
   ]
  },
  {
   "cell_type": "code",
   "execution_count": 47,
   "id": "6a89128b",
   "metadata": {},
   "outputs": [],
   "source": [
    "df_photo_tags.set_index('photo_id', inplace=True)"
   ]
  },
  {
   "cell_type": "code",
   "execution_count": 48,
   "id": "05ce1104",
   "metadata": {},
   "outputs": [
    {
     "data": {
      "text/html": [
       "<div>\n",
       "<style scoped>\n",
       "    .dataframe tbody tr th:only-of-type {\n",
       "        vertical-align: middle;\n",
       "    }\n",
       "\n",
       "    .dataframe tbody tr th {\n",
       "        vertical-align: top;\n",
       "    }\n",
       "\n",
       "    .dataframe thead th {\n",
       "        text-align: right;\n",
       "    }\n",
       "</style>\n",
       "<table border=\"1\" class=\"dataframe\">\n",
       "  <thead>\n",
       "    <tr style=\"text-align: right;\">\n",
       "      <th></th>\n",
       "      <th>tag_id</th>\n",
       "    </tr>\n",
       "    <tr>\n",
       "      <th>photo_id</th>\n",
       "      <th></th>\n",
       "    </tr>\n",
       "  </thead>\n",
       "  <tbody>\n",
       "    <tr>\n",
       "      <th>1</th>\n",
       "      <td>13</td>\n",
       "    </tr>\n",
       "    <tr>\n",
       "      <th>1</th>\n",
       "      <td>17</td>\n",
       "    </tr>\n",
       "    <tr>\n",
       "      <th>1</th>\n",
       "      <td>18</td>\n",
       "    </tr>\n",
       "    <tr>\n",
       "      <th>1</th>\n",
       "      <td>19</td>\n",
       "    </tr>\n",
       "    <tr>\n",
       "      <th>1</th>\n",
       "      <td>21</td>\n",
       "    </tr>\n",
       "  </tbody>\n",
       "</table>\n",
       "</div>"
      ],
      "text/plain": [
       "          tag_id\n",
       "photo_id        \n",
       "1             13\n",
       "1             17\n",
       "1             18\n",
       "1             19\n",
       "1             21"
      ]
     },
     "execution_count": 48,
     "metadata": {},
     "output_type": "execute_result"
    }
   ],
   "source": [
    "df_photo_tags.head()"
   ]
  },
  {
   "cell_type": "code",
   "execution_count": 19,
   "id": "778df145",
   "metadata": {},
   "outputs": [],
   "source": [
    "df_photos = pd.read_csv('photos.csv')"
   ]
  },
  {
   "cell_type": "code",
   "execution_count": 24,
   "id": "c52ddc3b",
   "metadata": {},
   "outputs": [
    {
     "data": {
      "text/html": [
       "<div>\n",
       "<style scoped>\n",
       "    .dataframe tbody tr th:only-of-type {\n",
       "        vertical-align: middle;\n",
       "    }\n",
       "\n",
       "    .dataframe tbody tr th {\n",
       "        vertical-align: top;\n",
       "    }\n",
       "\n",
       "    .dataframe thead th {\n",
       "        text-align: right;\n",
       "    }\n",
       "</style>\n",
       "<table border=\"1\" class=\"dataframe\">\n",
       "  <thead>\n",
       "    <tr style=\"text-align: right;\">\n",
       "      <th></th>\n",
       "      <th>image_url</th>\n",
       "      <th>user_id</th>\n",
       "      <th>created_at</th>\n",
       "    </tr>\n",
       "    <tr>\n",
       "      <th>id</th>\n",
       "      <th></th>\n",
       "      <th></th>\n",
       "      <th></th>\n",
       "    </tr>\n",
       "  </thead>\n",
       "  <tbody>\n",
       "    <tr>\n",
       "      <th>1</th>\n",
       "      <td>http://elijah.biz</td>\n",
       "      <td>1</td>\n",
       "      <td>2023-04-13 08:04:00</td>\n",
       "    </tr>\n",
       "    <tr>\n",
       "      <th>2</th>\n",
       "      <td>https://shanon.org</td>\n",
       "      <td>1</td>\n",
       "      <td>2023-04-13 08:04:00</td>\n",
       "    </tr>\n",
       "    <tr>\n",
       "      <th>3</th>\n",
       "      <td>http://vicky.biz</td>\n",
       "      <td>1</td>\n",
       "      <td>2023-04-13 08:04:00</td>\n",
       "    </tr>\n",
       "    <tr>\n",
       "      <th>4</th>\n",
       "      <td>http://oleta.net</td>\n",
       "      <td>1</td>\n",
       "      <td>2023-04-13 08:04:00</td>\n",
       "    </tr>\n",
       "    <tr>\n",
       "      <th>5</th>\n",
       "      <td>https://jennings.biz</td>\n",
       "      <td>1</td>\n",
       "      <td>2023-04-13 08:04:00</td>\n",
       "    </tr>\n",
       "  </tbody>\n",
       "</table>\n",
       "</div>"
      ],
      "text/plain": [
       "               image_url  user_id          created_at\n",
       "id                                                   \n",
       "1      http://elijah.biz        1 2023-04-13 08:04:00\n",
       "2     https://shanon.org        1 2023-04-13 08:04:00\n",
       "3       http://vicky.biz        1 2023-04-13 08:04:00\n",
       "4       http://oleta.net        1 2023-04-13 08:04:00\n",
       "5   https://jennings.biz        1 2023-04-13 08:04:00"
      ]
     },
     "execution_count": 24,
     "metadata": {},
     "output_type": "execute_result"
    }
   ],
   "source": [
    "df_photos.head()"
   ]
  },
  {
   "cell_type": "code",
   "execution_count": 20,
   "id": "705eb9a8",
   "metadata": {},
   "outputs": [],
   "source": [
    "df_photos.drop(['Insta filter used','photo type'],axis=1,inplace=True)"
   ]
  },
  {
   "cell_type": "code",
   "execution_count": 21,
   "id": "287b8915",
   "metadata": {},
   "outputs": [],
   "source": [
    "df_photos.rename(columns={'image link':'image_url','user ID':'user_id','created dat':'created_at'},inplace=True)"
   ]
  },
  {
   "cell_type": "code",
   "execution_count": 23,
   "id": "3ac48bb5",
   "metadata": {},
   "outputs": [],
   "source": [
    "df_photos.set_index('id', inplace=True)"
   ]
  },
  {
   "cell_type": "code",
   "execution_count": 22,
   "id": "bb51fc2f",
   "metadata": {},
   "outputs": [],
   "source": [
    "df_photos['created_at'] = pd.to_datetime(df_photos['created_at'], format='%d-%m-%Y %H:%M')"
   ]
  },
  {
   "cell_type": "code",
   "execution_count": 339,
   "id": "42f413cd",
   "metadata": {},
   "outputs": [
    {
     "data": {
      "text/html": [
       "<div>\n",
       "<style scoped>\n",
       "    .dataframe tbody tr th:only-of-type {\n",
       "        vertical-align: middle;\n",
       "    }\n",
       "\n",
       "    .dataframe tbody tr th {\n",
       "        vertical-align: top;\n",
       "    }\n",
       "\n",
       "    .dataframe thead th {\n",
       "        text-align: right;\n",
       "    }\n",
       "</style>\n",
       "<table border=\"1\" class=\"dataframe\">\n",
       "  <thead>\n",
       "    <tr style=\"text-align: right;\">\n",
       "      <th></th>\n",
       "      <th>image_url</th>\n",
       "      <th>user_id</th>\n",
       "      <th>created_at</th>\n",
       "    </tr>\n",
       "    <tr>\n",
       "      <th>id</th>\n",
       "      <th></th>\n",
       "      <th></th>\n",
       "      <th></th>\n",
       "    </tr>\n",
       "  </thead>\n",
       "  <tbody>\n",
       "    <tr>\n",
       "      <th>1</th>\n",
       "      <td>http://elijah.biz</td>\n",
       "      <td>1</td>\n",
       "      <td>2023-04-13 08:04:00</td>\n",
       "    </tr>\n",
       "    <tr>\n",
       "      <th>2</th>\n",
       "      <td>https://shanon.org</td>\n",
       "      <td>1</td>\n",
       "      <td>2023-04-13 08:04:00</td>\n",
       "    </tr>\n",
       "    <tr>\n",
       "      <th>3</th>\n",
       "      <td>http://vicky.biz</td>\n",
       "      <td>1</td>\n",
       "      <td>2023-04-13 08:04:00</td>\n",
       "    </tr>\n",
       "    <tr>\n",
       "      <th>4</th>\n",
       "      <td>http://oleta.net</td>\n",
       "      <td>1</td>\n",
       "      <td>2023-04-13 08:04:00</td>\n",
       "    </tr>\n",
       "    <tr>\n",
       "      <th>5</th>\n",
       "      <td>https://jennings.biz</td>\n",
       "      <td>1</td>\n",
       "      <td>2023-04-13 08:04:00</td>\n",
       "    </tr>\n",
       "  </tbody>\n",
       "</table>\n",
       "</div>"
      ],
      "text/plain": [
       "               image_url  user_id          created_at\n",
       "id                                                   \n",
       "1      http://elijah.biz        1 2023-04-13 08:04:00\n",
       "2     https://shanon.org        1 2023-04-13 08:04:00\n",
       "3       http://vicky.biz        1 2023-04-13 08:04:00\n",
       "4       http://oleta.net        1 2023-04-13 08:04:00\n",
       "5   https://jennings.biz        1 2023-04-13 08:04:00"
      ]
     },
     "execution_count": 339,
     "metadata": {},
     "output_type": "execute_result"
    }
   ],
   "source": [
    "df_photos.head()"
   ]
  },
  {
   "cell_type": "code",
   "execution_count": 37,
   "id": "f53fca92",
   "metadata": {},
   "outputs": [],
   "source": [
    "tags = pd.read_csv('tags.csv')"
   ]
  },
  {
   "cell_type": "code",
   "execution_count": 38,
   "id": "e9582d4c",
   "metadata": {},
   "outputs": [],
   "source": [
    "tags.drop(['location'],axis=1,inplace=True)"
   ]
  },
  {
   "cell_type": "code",
   "execution_count": 41,
   "id": "fe3f8152",
   "metadata": {},
   "outputs": [],
   "source": [
    "tags['created_at'] = pd.to_datetime(tags['created_at'], format='%d-%m-%Y %H:%M')"
   ]
  },
  {
   "cell_type": "code",
   "execution_count": 40,
   "id": "e81b9860",
   "metadata": {},
   "outputs": [],
   "source": [
    "tags.rename(columns={'tag text':'tag_name','created time':'created_at'},inplace=True)"
   ]
  },
  {
   "cell_type": "code",
   "execution_count": 42,
   "id": "2cfb1213",
   "metadata": {},
   "outputs": [],
   "source": [
    "tags.set_index('id', inplace=True)"
   ]
  },
  {
   "cell_type": "code",
   "execution_count": 12,
   "id": "5642cb35",
   "metadata": {},
   "outputs": [],
   "source": [
    "df_users = pd.read_csv('users.csv')"
   ]
  },
  {
   "cell_type": "code",
   "execution_count": 43,
   "id": "081ff2a8",
   "metadata": {},
   "outputs": [
    {
     "data": {
      "text/html": [
       "<div>\n",
       "<style scoped>\n",
       "    .dataframe tbody tr th:only-of-type {\n",
       "        vertical-align: middle;\n",
       "    }\n",
       "\n",
       "    .dataframe tbody tr th {\n",
       "        vertical-align: top;\n",
       "    }\n",
       "\n",
       "    .dataframe thead th {\n",
       "        text-align: right;\n",
       "    }\n",
       "</style>\n",
       "<table border=\"1\" class=\"dataframe\">\n",
       "  <thead>\n",
       "    <tr style=\"text-align: right;\">\n",
       "      <th></th>\n",
       "      <th>tag_name</th>\n",
       "      <th>created_at</th>\n",
       "    </tr>\n",
       "    <tr>\n",
       "      <th>id</th>\n",
       "      <th></th>\n",
       "      <th></th>\n",
       "    </tr>\n",
       "  </thead>\n",
       "  <tbody>\n",
       "    <tr>\n",
       "      <th>1</th>\n",
       "      <td>sunset</td>\n",
       "      <td>2023-04-13 08:04:00</td>\n",
       "    </tr>\n",
       "    <tr>\n",
       "      <th>2</th>\n",
       "      <td>photography</td>\n",
       "      <td>2023-04-13 08:04:00</td>\n",
       "    </tr>\n",
       "    <tr>\n",
       "      <th>3</th>\n",
       "      <td>sunrise</td>\n",
       "      <td>2023-04-13 08:04:00</td>\n",
       "    </tr>\n",
       "    <tr>\n",
       "      <th>4</th>\n",
       "      <td>landscape</td>\n",
       "      <td>2023-04-13 08:04:00</td>\n",
       "    </tr>\n",
       "    <tr>\n",
       "      <th>5</th>\n",
       "      <td>food</td>\n",
       "      <td>2023-04-13 08:04:00</td>\n",
       "    </tr>\n",
       "  </tbody>\n",
       "</table>\n",
       "</div>"
      ],
      "text/plain": [
       "       tag_name          created_at\n",
       "id                                 \n",
       "1        sunset 2023-04-13 08:04:00\n",
       "2   photography 2023-04-13 08:04:00\n",
       "3       sunrise 2023-04-13 08:04:00\n",
       "4     landscape 2023-04-13 08:04:00\n",
       "5          food 2023-04-13 08:04:00"
      ]
     },
     "execution_count": 43,
     "metadata": {},
     "output_type": "execute_result"
    }
   ],
   "source": [
    "tags.head()"
   ]
  },
  {
   "cell_type": "code",
   "execution_count": 13,
   "id": "dbe184ab",
   "metadata": {},
   "outputs": [],
   "source": [
    "df_users.drop(['private/public','post count','Verified status'],axis=1,inplace=True)"
   ]
  },
  {
   "cell_type": "code",
   "execution_count": 14,
   "id": "24f10bfd",
   "metadata": {},
   "outputs": [],
   "source": [
    "df_users.rename(columns={'name':'username','created time':'created_at'},inplace=True)"
   ]
  },
  {
   "cell_type": "code",
   "execution_count": 16,
   "id": "707567a4",
   "metadata": {},
   "outputs": [],
   "source": [
    "df_users.set_index('id', inplace=True)"
   ]
  },
  {
   "cell_type": "code",
   "execution_count": 15,
   "id": "980ff354",
   "metadata": {},
   "outputs": [],
   "source": [
    "df_users['created_at'] = pd.to_datetime(df_users['created_at'], format='%d-%m-%Y %H:%M')"
   ]
  },
  {
   "cell_type": "code",
   "execution_count": 17,
   "id": "757749b2",
   "metadata": {},
   "outputs": [
    {
     "data": {
      "text/html": [
       "<div>\n",
       "<style scoped>\n",
       "    .dataframe tbody tr th:only-of-type {\n",
       "        vertical-align: middle;\n",
       "    }\n",
       "\n",
       "    .dataframe tbody tr th {\n",
       "        vertical-align: top;\n",
       "    }\n",
       "\n",
       "    .dataframe thead th {\n",
       "        text-align: right;\n",
       "    }\n",
       "</style>\n",
       "<table border=\"1\" class=\"dataframe\">\n",
       "  <thead>\n",
       "    <tr style=\"text-align: right;\">\n",
       "      <th></th>\n",
       "      <th>username</th>\n",
       "      <th>created_at</th>\n",
       "    </tr>\n",
       "    <tr>\n",
       "      <th>id</th>\n",
       "      <th></th>\n",
       "      <th></th>\n",
       "    </tr>\n",
       "  </thead>\n",
       "  <tbody>\n",
       "    <tr>\n",
       "      <th>1</th>\n",
       "      <td>Kenton_Kirlin</td>\n",
       "      <td>2017-02-16 18:22:00</td>\n",
       "    </tr>\n",
       "    <tr>\n",
       "      <th>2</th>\n",
       "      <td>Andre_Purdy85</td>\n",
       "      <td>2017-04-02 17:11:00</td>\n",
       "    </tr>\n",
       "    <tr>\n",
       "      <th>3</th>\n",
       "      <td>Harley_Lind18</td>\n",
       "      <td>2017-02-21 11:12:00</td>\n",
       "    </tr>\n",
       "    <tr>\n",
       "      <th>4</th>\n",
       "      <td>Arely_Bogan63</td>\n",
       "      <td>2016-08-13 01:28:00</td>\n",
       "    </tr>\n",
       "    <tr>\n",
       "      <th>5</th>\n",
       "      <td>Aniya_Hackett</td>\n",
       "      <td>2016-12-07 01:04:00</td>\n",
       "    </tr>\n",
       "  </tbody>\n",
       "</table>\n",
       "</div>"
      ],
      "text/plain": [
       "         username          created_at\n",
       "id                                   \n",
       "1   Kenton_Kirlin 2017-02-16 18:22:00\n",
       "2   Andre_Purdy85 2017-04-02 17:11:00\n",
       "3   Harley_Lind18 2017-02-21 11:12:00\n",
       "4   Arely_Bogan63 2016-08-13 01:28:00\n",
       "5   Aniya_Hackett 2016-12-07 01:04:00"
      ]
     },
     "execution_count": 17,
     "metadata": {},
     "output_type": "execute_result"
    }
   ],
   "source": [
    "df_users.head()"
   ]
  },
  {
   "cell_type": "code",
   "execution_count": 221,
   "id": "3bfb4d45",
   "metadata": {},
   "outputs": [
    {
     "data": {
      "text/html": [
       "<div>\n",
       "<style scoped>\n",
       "    .dataframe tbody tr th:only-of-type {\n",
       "        vertical-align: middle;\n",
       "    }\n",
       "\n",
       "    .dataframe tbody tr th {\n",
       "        vertical-align: top;\n",
       "    }\n",
       "\n",
       "    .dataframe thead th {\n",
       "        text-align: right;\n",
       "    }\n",
       "</style>\n",
       "<table border=\"1\" class=\"dataframe\">\n",
       "  <thead>\n",
       "    <tr style=\"text-align: right;\">\n",
       "      <th></th>\n",
       "      <th>id</th>\n",
       "      <th>tag_name</th>\n",
       "      <th>created_at</th>\n",
       "    </tr>\n",
       "  </thead>\n",
       "  <tbody>\n",
       "    <tr>\n",
       "      <th>0</th>\n",
       "      <td>1</td>\n",
       "      <td>sunset</td>\n",
       "      <td>13-04-2023 08:04</td>\n",
       "    </tr>\n",
       "    <tr>\n",
       "      <th>1</th>\n",
       "      <td>2</td>\n",
       "      <td>photography</td>\n",
       "      <td>13-04-2023 08:04</td>\n",
       "    </tr>\n",
       "    <tr>\n",
       "      <th>2</th>\n",
       "      <td>3</td>\n",
       "      <td>sunrise</td>\n",
       "      <td>13-04-2023 08:04</td>\n",
       "    </tr>\n",
       "    <tr>\n",
       "      <th>3</th>\n",
       "      <td>4</td>\n",
       "      <td>landscape</td>\n",
       "      <td>13-04-2023 08:04</td>\n",
       "    </tr>\n",
       "    <tr>\n",
       "      <th>4</th>\n",
       "      <td>5</td>\n",
       "      <td>food</td>\n",
       "      <td>13-04-2023 08:04</td>\n",
       "    </tr>\n",
       "  </tbody>\n",
       "</table>\n",
       "</div>"
      ],
      "text/plain": [
       "   id     tag_name        created_at\n",
       "0   1       sunset  13-04-2023 08:04\n",
       "1   2  photography  13-04-2023 08:04\n",
       "2   3      sunrise  13-04-2023 08:04\n",
       "3   4    landscape  13-04-2023 08:04\n",
       "4   5         food  13-04-2023 08:04"
      ]
     },
     "execution_count": 221,
     "metadata": {},
     "output_type": "execute_result"
    }
   ],
   "source": [
    "df_tags.head()"
   ]
  },
  {
   "cell_type": "code",
   "execution_count": 222,
   "id": "6413dc57",
   "metadata": {},
   "outputs": [
    {
     "data": {
      "text/html": [
       "<div>\n",
       "<style scoped>\n",
       "    .dataframe tbody tr th:only-of-type {\n",
       "        vertical-align: middle;\n",
       "    }\n",
       "\n",
       "    .dataframe tbody tr th {\n",
       "        vertical-align: top;\n",
       "    }\n",
       "\n",
       "    .dataframe thead th {\n",
       "        text-align: right;\n",
       "    }\n",
       "</style>\n",
       "<table border=\"1\" class=\"dataframe\">\n",
       "  <thead>\n",
       "    <tr style=\"text-align: right;\">\n",
       "      <th></th>\n",
       "      <th>id</th>\n",
       "      <th>image_url</th>\n",
       "      <th>user_id</th>\n",
       "      <th>created_date</th>\n",
       "    </tr>\n",
       "  </thead>\n",
       "  <tbody>\n",
       "    <tr>\n",
       "      <th>0</th>\n",
       "      <td>1</td>\n",
       "      <td>http://elijah.biz</td>\n",
       "      <td>1</td>\n",
       "      <td>13-04-2023 08:04</td>\n",
       "    </tr>\n",
       "    <tr>\n",
       "      <th>1</th>\n",
       "      <td>2</td>\n",
       "      <td>https://shanon.org</td>\n",
       "      <td>1</td>\n",
       "      <td>13-04-2023 08:04</td>\n",
       "    </tr>\n",
       "    <tr>\n",
       "      <th>2</th>\n",
       "      <td>3</td>\n",
       "      <td>http://vicky.biz</td>\n",
       "      <td>1</td>\n",
       "      <td>13-04-2023 08:04</td>\n",
       "    </tr>\n",
       "    <tr>\n",
       "      <th>3</th>\n",
       "      <td>4</td>\n",
       "      <td>http://oleta.net</td>\n",
       "      <td>1</td>\n",
       "      <td>13-04-2023 08:04</td>\n",
       "    </tr>\n",
       "    <tr>\n",
       "      <th>4</th>\n",
       "      <td>5</td>\n",
       "      <td>https://jennings.biz</td>\n",
       "      <td>1</td>\n",
       "      <td>13-04-2023 08:04</td>\n",
       "    </tr>\n",
       "  </tbody>\n",
       "</table>\n",
       "</div>"
      ],
      "text/plain": [
       "   id             image_url  user_id      created_date\n",
       "0   1     http://elijah.biz        1  13-04-2023 08:04\n",
       "1   2    https://shanon.org        1  13-04-2023 08:04\n",
       "2   3      http://vicky.biz        1  13-04-2023 08:04\n",
       "3   4      http://oleta.net        1  13-04-2023 08:04\n",
       "4   5  https://jennings.biz        1  13-04-2023 08:04"
      ]
     },
     "execution_count": 222,
     "metadata": {},
     "output_type": "execute_result"
    }
   ],
   "source": [
    "df_photos.head()"
   ]
  },
  {
   "cell_type": "code",
   "execution_count": 223,
   "id": "23f0064a",
   "metadata": {},
   "outputs": [
    {
     "data": {
      "text/html": [
       "<div>\n",
       "<style scoped>\n",
       "    .dataframe tbody tr th:only-of-type {\n",
       "        vertical-align: middle;\n",
       "    }\n",
       "\n",
       "    .dataframe tbody tr th {\n",
       "        vertical-align: top;\n",
       "    }\n",
       "\n",
       "    .dataframe thead th {\n",
       "        text-align: right;\n",
       "    }\n",
       "</style>\n",
       "<table border=\"1\" class=\"dataframe\">\n",
       "  <thead>\n",
       "    <tr style=\"text-align: right;\">\n",
       "      <th></th>\n",
       "      <th>photo_id</th>\n",
       "      <th>tag_id</th>\n",
       "    </tr>\n",
       "  </thead>\n",
       "  <tbody>\n",
       "    <tr>\n",
       "      <th>0</th>\n",
       "      <td>1</td>\n",
       "      <td>13</td>\n",
       "    </tr>\n",
       "    <tr>\n",
       "      <th>1</th>\n",
       "      <td>1</td>\n",
       "      <td>17</td>\n",
       "    </tr>\n",
       "    <tr>\n",
       "      <th>2</th>\n",
       "      <td>1</td>\n",
       "      <td>18</td>\n",
       "    </tr>\n",
       "    <tr>\n",
       "      <th>3</th>\n",
       "      <td>1</td>\n",
       "      <td>19</td>\n",
       "    </tr>\n",
       "    <tr>\n",
       "      <th>4</th>\n",
       "      <td>1</td>\n",
       "      <td>21</td>\n",
       "    </tr>\n",
       "  </tbody>\n",
       "</table>\n",
       "</div>"
      ],
      "text/plain": [
       "   photo_id  tag_id\n",
       "0         1      13\n",
       "1         1      17\n",
       "2         1      18\n",
       "3         1      19\n",
       "4         1      21"
      ]
     },
     "execution_count": 223,
     "metadata": {},
     "output_type": "execute_result"
    }
   ],
   "source": [
    "df_photo_tags.head()"
   ]
  },
  {
   "cell_type": "code",
   "execution_count": 36,
   "id": "84fb0188",
   "metadata": {},
   "outputs": [
    {
     "data": {
      "text/html": [
       "<div>\n",
       "<style scoped>\n",
       "    .dataframe tbody tr th:only-of-type {\n",
       "        vertical-align: middle;\n",
       "    }\n",
       "\n",
       "    .dataframe tbody tr th {\n",
       "        vertical-align: top;\n",
       "    }\n",
       "\n",
       "    .dataframe thead th {\n",
       "        text-align: right;\n",
       "    }\n",
       "</style>\n",
       "<table border=\"1\" class=\"dataframe\">\n",
       "  <thead>\n",
       "    <tr style=\"text-align: right;\">\n",
       "      <th></th>\n",
       "      <th>photo_id</th>\n",
       "      <th>created_at</th>\n",
       "    </tr>\n",
       "    <tr>\n",
       "      <th>user_id</th>\n",
       "      <th></th>\n",
       "      <th></th>\n",
       "    </tr>\n",
       "  </thead>\n",
       "  <tbody>\n",
       "    <tr>\n",
       "      <th>2</th>\n",
       "      <td>1</td>\n",
       "      <td>2023-04-13 08:04:00</td>\n",
       "    </tr>\n",
       "    <tr>\n",
       "      <th>2</th>\n",
       "      <td>4</td>\n",
       "      <td>2023-04-13 08:04:00</td>\n",
       "    </tr>\n",
       "    <tr>\n",
       "      <th>2</th>\n",
       "      <td>8</td>\n",
       "      <td>2023-04-13 08:04:00</td>\n",
       "    </tr>\n",
       "    <tr>\n",
       "      <th>2</th>\n",
       "      <td>9</td>\n",
       "      <td>2023-04-13 08:04:00</td>\n",
       "    </tr>\n",
       "    <tr>\n",
       "      <th>2</th>\n",
       "      <td>10</td>\n",
       "      <td>2023-04-13 08:04:00</td>\n",
       "    </tr>\n",
       "  </tbody>\n",
       "</table>\n",
       "</div>"
      ],
      "text/plain": [
       "         photo_id          created_at\n",
       "user_id                              \n",
       "2               1 2023-04-13 08:04:00\n",
       "2               4 2023-04-13 08:04:00\n",
       "2               8 2023-04-13 08:04:00\n",
       "2               9 2023-04-13 08:04:00\n",
       "2              10 2023-04-13 08:04:00"
      ]
     },
     "execution_count": 36,
     "metadata": {},
     "output_type": "execute_result"
    }
   ],
   "source": [
    "df_likes.head()"
   ]
  },
  {
   "cell_type": "code",
   "execution_count": 386,
   "id": "29cfc45f",
   "metadata": {},
   "outputs": [
    {
     "data": {
      "text/html": [
       "<div>\n",
       "<style scoped>\n",
       "    .dataframe tbody tr th:only-of-type {\n",
       "        vertical-align: middle;\n",
       "    }\n",
       "\n",
       "    .dataframe tbody tr th {\n",
       "        vertical-align: top;\n",
       "    }\n",
       "\n",
       "    .dataframe thead th {\n",
       "        text-align: right;\n",
       "    }\n",
       "</style>\n",
       "<table border=\"1\" class=\"dataframe\">\n",
       "  <thead>\n",
       "    <tr style=\"text-align: right;\">\n",
       "      <th></th>\n",
       "      <th>follower</th>\n",
       "      <th>followee</th>\n",
       "      <th>created time</th>\n",
       "      <th>is follower active</th>\n",
       "      <th>followee Acc status</th>\n",
       "    </tr>\n",
       "  </thead>\n",
       "  <tbody>\n",
       "    <tr>\n",
       "      <th>0</th>\n",
       "      <td>2</td>\n",
       "      <td>1</td>\n",
       "      <td>13-04-2023 08:04</td>\n",
       "      <td>1</td>\n",
       "      <td>Private</td>\n",
       "    </tr>\n",
       "    <tr>\n",
       "      <th>1</th>\n",
       "      <td>2</td>\n",
       "      <td>3</td>\n",
       "      <td>13-04-2023 08:04</td>\n",
       "      <td>0</td>\n",
       "      <td>private</td>\n",
       "    </tr>\n",
       "    <tr>\n",
       "      <th>2</th>\n",
       "      <td>2</td>\n",
       "      <td>4</td>\n",
       "      <td>13-04-2023 08:04</td>\n",
       "      <td>0</td>\n",
       "      <td>public</td>\n",
       "    </tr>\n",
       "    <tr>\n",
       "      <th>3</th>\n",
       "      <td>2</td>\n",
       "      <td>5</td>\n",
       "      <td>13-04-2023 08:04</td>\n",
       "      <td>0</td>\n",
       "      <td>private</td>\n",
       "    </tr>\n",
       "    <tr>\n",
       "      <th>4</th>\n",
       "      <td>2</td>\n",
       "      <td>6</td>\n",
       "      <td>13-04-2023 08:04</td>\n",
       "      <td>1</td>\n",
       "      <td>private</td>\n",
       "    </tr>\n",
       "  </tbody>\n",
       "</table>\n",
       "</div>"
      ],
      "text/plain": [
       "   follower  followee       created time  is follower active  \\\n",
       "0         2          1  13-04-2023 08:04                   1   \n",
       "1         2          3  13-04-2023 08:04                   0   \n",
       "2         2          4  13-04-2023 08:04                   0   \n",
       "3         2          5  13-04-2023 08:04                   0   \n",
       "4         2          6  13-04-2023 08:04                   1   \n",
       "\n",
       "  followee Acc status  \n",
       "0             Private  \n",
       "1             private  \n",
       "2              public  \n",
       "3             private  \n",
       "4             private  "
      ]
     },
     "execution_count": 386,
     "metadata": {},
     "output_type": "execute_result"
    }
   ],
   "source": [
    "follows.head()"
   ]
  },
  {
   "cell_type": "code",
   "execution_count": 226,
   "id": "86d587e4",
   "metadata": {},
   "outputs": [
    {
     "data": {
      "text/html": [
       "<div>\n",
       "<style scoped>\n",
       "    .dataframe tbody tr th:only-of-type {\n",
       "        vertical-align: middle;\n",
       "    }\n",
       "\n",
       "    .dataframe tbody tr th {\n",
       "        vertical-align: top;\n",
       "    }\n",
       "\n",
       "    .dataframe thead th {\n",
       "        text-align: right;\n",
       "    }\n",
       "</style>\n",
       "<table border=\"1\" class=\"dataframe\">\n",
       "  <thead>\n",
       "    <tr style=\"text-align: right;\">\n",
       "      <th></th>\n",
       "      <th>id</th>\n",
       "      <th>comment_text</th>\n",
       "      <th>user_id</th>\n",
       "      <th>photo_id</th>\n",
       "      <th>created_at</th>\n",
       "    </tr>\n",
       "  </thead>\n",
       "  <tbody>\n",
       "    <tr>\n",
       "      <th>0</th>\n",
       "      <td>1</td>\n",
       "      <td>unde at dolorem</td>\n",
       "      <td>2</td>\n",
       "      <td>1</td>\n",
       "      <td>13-04-2023 08:04</td>\n",
       "    </tr>\n",
       "    <tr>\n",
       "      <th>1</th>\n",
       "      <td>2</td>\n",
       "      <td>quae ea ducimus</td>\n",
       "      <td>3</td>\n",
       "      <td>1</td>\n",
       "      <td>13-04-2023 08:04</td>\n",
       "    </tr>\n",
       "    <tr>\n",
       "      <th>2</th>\n",
       "      <td>3</td>\n",
       "      <td>alias a voluptatum</td>\n",
       "      <td>5</td>\n",
       "      <td>1</td>\n",
       "      <td>13-04-2023 08:04</td>\n",
       "    </tr>\n",
       "    <tr>\n",
       "      <th>3</th>\n",
       "      <td>4</td>\n",
       "      <td>facere suscipit sunt</td>\n",
       "      <td>14</td>\n",
       "      <td>1</td>\n",
       "      <td>13-04-2023 08:04</td>\n",
       "    </tr>\n",
       "    <tr>\n",
       "      <th>4</th>\n",
       "      <td>5</td>\n",
       "      <td>totam eligendi quaerat</td>\n",
       "      <td>17</td>\n",
       "      <td>1</td>\n",
       "      <td>13-04-2023 08:04</td>\n",
       "    </tr>\n",
       "  </tbody>\n",
       "</table>\n",
       "</div>"
      ],
      "text/plain": [
       "   id            comment_text  user_id  photo_id        created_at\n",
       "0   1         unde at dolorem        2         1  13-04-2023 08:04\n",
       "1   2         quae ea ducimus        3         1  13-04-2023 08:04\n",
       "2   3      alias a voluptatum        5         1  13-04-2023 08:04\n",
       "3   4    facere suscipit sunt       14         1  13-04-2023 08:04\n",
       "4   5  totam eligendi quaerat       17         1  13-04-2023 08:04"
      ]
     },
     "execution_count": 226,
     "metadata": {},
     "output_type": "execute_result"
    }
   ],
   "source": [
    "df_comments.head()"
   ]
  },
  {
   "cell_type": "code",
   "execution_count": 4,
   "id": "a6b61a56",
   "metadata": {},
   "outputs": [],
   "source": [
    "import psycopg2\n",
    "import numpy as np\n",
    "# Since we want to benchmark the efficiency of each insert strategy\n",
    "from timeit import default_timer as timer"
   ]
  },
  {
   "cell_type": "code",
   "execution_count": 5,
   "id": "01714c15",
   "metadata": {},
   "outputs": [],
   "source": [
    "param_dic = {\n",
    "    \"host\"      : \"localhost\",\n",
    "    \"database\"  : \"InstagramInsights\",\n",
    "    \"user\"      : \"myuser1\",\n",
    "    \"password\"  : \"Passw0rd1\"\n",
    "}"
   ]
  },
  {
   "cell_type": "code",
   "execution_count": 6,
   "id": "d1e05b63",
   "metadata": {},
   "outputs": [],
   "source": [
    "import sys\n",
    "def connect(params_dic):\n",
    "    \"\"\" Connect to the PostgreSQL database server \"\"\"\n",
    "    conn = None\n",
    "    try:\n",
    "        # connect to the PostgreSQL server\n",
    "        print('Connecting to the PostgreSQL database...')\n",
    "        conn = psycopg2.connect(**params_dic)\n",
    "    except (Exception, psycopg2.DatabaseError) as error:\n",
    "        print(error)\n",
    "        sys.exit(1) \n",
    "    print(\"Connection successful\")\n",
    "    return conn"
   ]
  },
  {
   "cell_type": "code",
   "execution_count": 7,
   "id": "497e46bb",
   "metadata": {},
   "outputs": [
    {
     "name": "stdout",
     "output_type": "stream",
     "text": [
      "Connecting to the PostgreSQL database...\n",
      "Connection successful\n"
     ]
    }
   ],
   "source": [
    "conn = connect(param_dic)"
   ]
  },
  {
   "cell_type": "code",
   "execution_count": 317,
   "id": "91a71e3b",
   "metadata": {},
   "outputs": [],
   "source": [
    "# create_table_query = \"\"\"\n",
    "#     CREATE TABLE IF NOT EXISTS df_users (\n",
    "#         id SERIAL PRIMARY KEY,\n",
    "#         username VARCHAR(255) UNIQUE NOT NULL,\n",
    "#         created_at TIMESTAMP DEFAULT NOW()\n",
    "#     )\n",
    "# \"\"\""
   ]
  },
  {
   "cell_type": "code",
   "execution_count": 8,
   "id": "4d492e37",
   "metadata": {},
   "outputs": [],
   "source": [
    "def execute_query(conn, query):\n",
    "    \"\"\" Execute a single query \"\"\"\n",
    "    \n",
    "    ret = 0 # Return value\n",
    "    cursor = conn.cursor()\n",
    "    try:\n",
    "        cursor.execute(query)\n",
    "        conn.commit()\n",
    "    except (Exception, psycopg2.DatabaseError) as error:\n",
    "        print(\"Error: %s\" % error)\n",
    "        conn.rollback()\n",
    "        cursor.close()\n",
    "        return 1\n",
    "\n",
    "    # If this was a select query, return the result\n",
    "    if 'select' in query.lower():\n",
    "        ret = cursor.fetchall()\n",
    "    cursor.close()\n",
    "    return ret"
   ]
  },
  {
   "cell_type": "code",
   "execution_count": 319,
   "id": "14173380",
   "metadata": {},
   "outputs": [
    {
     "data": {
      "text/html": [
       "<div>\n",
       "<style scoped>\n",
       "    .dataframe tbody tr th:only-of-type {\n",
       "        vertical-align: middle;\n",
       "    }\n",
       "\n",
       "    .dataframe tbody tr th {\n",
       "        vertical-align: top;\n",
       "    }\n",
       "\n",
       "    .dataframe thead th {\n",
       "        text-align: right;\n",
       "    }\n",
       "</style>\n",
       "<table border=\"1\" class=\"dataframe\">\n",
       "  <thead>\n",
       "    <tr style=\"text-align: right;\">\n",
       "      <th></th>\n",
       "      <th>username</th>\n",
       "      <th>created_at</th>\n",
       "    </tr>\n",
       "    <tr>\n",
       "      <th>id</th>\n",
       "      <th></th>\n",
       "      <th></th>\n",
       "    </tr>\n",
       "  </thead>\n",
       "  <tbody>\n",
       "    <tr>\n",
       "      <th>1</th>\n",
       "      <td>Kenton_Kirlin</td>\n",
       "      <td>2017-02-16 18:22:00</td>\n",
       "    </tr>\n",
       "    <tr>\n",
       "      <th>2</th>\n",
       "      <td>Andre_Purdy85</td>\n",
       "      <td>2017-04-02 17:11:00</td>\n",
       "    </tr>\n",
       "    <tr>\n",
       "      <th>3</th>\n",
       "      <td>Harley_Lind18</td>\n",
       "      <td>2017-02-21 11:12:00</td>\n",
       "    </tr>\n",
       "    <tr>\n",
       "      <th>4</th>\n",
       "      <td>Arely_Bogan63</td>\n",
       "      <td>2016-08-13 01:28:00</td>\n",
       "    </tr>\n",
       "    <tr>\n",
       "      <th>5</th>\n",
       "      <td>Aniya_Hackett</td>\n",
       "      <td>2016-12-07 01:04:00</td>\n",
       "    </tr>\n",
       "  </tbody>\n",
       "</table>\n",
       "</div>"
      ],
      "text/plain": [
       "         username          created_at\n",
       "id                                   \n",
       "1   Kenton_Kirlin 2017-02-16 18:22:00\n",
       "2   Andre_Purdy85 2017-04-02 17:11:00\n",
       "3   Harley_Lind18 2017-02-21 11:12:00\n",
       "4   Arely_Bogan63 2016-08-13 01:28:00\n",
       "5   Aniya_Hackett 2016-12-07 01:04:00"
      ]
     },
     "execution_count": 319,
     "metadata": {},
     "output_type": "execute_result"
    }
   ],
   "source": [
    "df_users.head()"
   ]
  },
  {
   "cell_type": "code",
   "execution_count": 18,
   "id": "df8911a7",
   "metadata": {},
   "outputs": [
    {
     "name": "stdout",
     "output_type": "stream",
     "text": [
      "Error: duplicate key value violates unique constraint \"df_users_pkey\"\n",
      "DETAIL:  Key (id)=(1) already exists.\n",
      "CONTEXT:  COPY df_users, line 1\n",
      "\n"
     ]
    },
    {
     "data": {
      "text/plain": [
       "[(100,)]"
      ]
     },
     "execution_count": 18,
     "metadata": {},
     "output_type": "execute_result"
    }
   ],
   "source": [
    "from io import StringIO\n",
    "\n",
    "def copy_from_stringio(conn, df, table):\n",
    "    \"\"\"\n",
    "    Here we are going save the dataframe in memory \n",
    "    and use copy_from() to copy it to the table\n",
    "    \"\"\"\n",
    "    # save dataframe to an in memory buffer\n",
    "    buffer = StringIO()\n",
    "    \n",
    "    df.to_csv(buffer, index_label = 'id',header=False)\n",
    "    buffer.seek(0)\n",
    "    \n",
    "    cursor = conn.cursor()\n",
    "    try:\n",
    "        cursor.copy_from(buffer, table, sep=\",\")\n",
    "        conn.commit()\n",
    "    except (Exception, psycopg2.DatabaseError) as error:\n",
    "        print(\"Error: %s\" % error)\n",
    "        conn.rollback()\n",
    "        cursor.close()\n",
    "        return 1\n",
    "    print(\"copy_from_stringio() done\")\n",
    "    cursor.close()\n",
    "\n",
    "\n",
    "# Run the execute_many strategy\n",
    "copy_from_stringio(conn, df_users, 'df_users')\n",
    "#copy_from_stringio() done\n",
    "# Check that the values were indeed inserted\n",
    "execute_query(conn, \"select count(*) from df_users;\")"
   ]
  },
  {
   "cell_type": "code",
   "execution_count": 340,
   "id": "abb039d6",
   "metadata": {},
   "outputs": [
    {
     "name": "stdout",
     "output_type": "stream",
     "text": [
      "copy_from_stringio() done\n"
     ]
    },
    {
     "data": {
      "text/plain": [
       "[(257,)]"
      ]
     },
     "execution_count": 340,
     "metadata": {},
     "output_type": "execute_result"
    }
   ],
   "source": [
    "copy_from_stringio(conn, df_photos, 'df_photos')\n",
    "#copy_from_stringio() done\n",
    "# Check that the values were indeed inserted\n",
    "execute_query(conn, \"select count(*) from df_photos;\")"
   ]
  },
  {
   "cell_type": "code",
   "execution_count": 369,
   "id": "ae8d13f9",
   "metadata": {},
   "outputs": [
    {
     "name": "stdout",
     "output_type": "stream",
     "text": [
      "copy_from_stringio() done\n"
     ]
    },
    {
     "data": {
      "text/plain": [
       "[(7467,)]"
      ]
     },
     "execution_count": 369,
     "metadata": {},
     "output_type": "execute_result"
    }
   ],
   "source": [
    "copy_from_stringio(conn, df_comments, 'df_comments')\n",
    "#copy_from_stringio() done\n",
    "# Check that the values were indeed inserted\n",
    "execute_query(conn, \"select count(*) from df_comments;\")"
   ]
  },
  {
   "cell_type": "code",
   "execution_count": 452,
   "id": "10404c35",
   "metadata": {},
   "outputs": [
    {
     "name": "stdout",
     "output_type": "stream",
     "text": [
      "copy_from_stringio() done\n"
     ]
    },
    {
     "data": {
      "text/plain": [
       "[(8782,)]"
      ]
     },
     "execution_count": 452,
     "metadata": {},
     "output_type": "execute_result"
    }
   ],
   "source": [
    "copy_from_stringio(conn, df_likes, 'df_likes')\n",
    "#copy_from_stringio() done\n",
    "# Check that the values were indeed inserted\n",
    "execute_query(conn, \"select count(*) from df_likes;\")"
   ]
  },
  {
   "cell_type": "code",
   "execution_count": 478,
   "id": "68bbb387",
   "metadata": {},
   "outputs": [
    {
     "name": "stdout",
     "output_type": "stream",
     "text": [
      "copy_from_stringio() done\n"
     ]
    },
    {
     "data": {
      "text/plain": [
       "[(7623,)]"
      ]
     },
     "execution_count": 478,
     "metadata": {},
     "output_type": "execute_result"
    }
   ],
   "source": [
    "copy_from_stringio(conn, follows, 'follows')\n",
    "#copy_from_stringio() done\n",
    "# Check that the values were indeed inserted\n",
    "execute_query(conn, \"select count(*) from follows;\")"
   ]
  },
  {
   "cell_type": "code",
   "execution_count": 498,
   "id": "cc6123ac",
   "metadata": {},
   "outputs": [
    {
     "name": "stdout",
     "output_type": "stream",
     "text": [
      "copy_from_stringio() done\n"
     ]
    },
    {
     "data": {
      "text/plain": [
       "[(21,)]"
      ]
     },
     "execution_count": 498,
     "metadata": {},
     "output_type": "execute_result"
    }
   ],
   "source": [
    "copy_from_stringio(conn, tags, 'tags')\n",
    "#copy_from_stringio() done\n",
    "# Check that the values were indeed inserted\n",
    "execute_query(conn, \"select count(*) from tags;\")"
   ]
  },
  {
   "cell_type": "code",
   "execution_count": 519,
   "id": "a5d9d610",
   "metadata": {},
   "outputs": [
    {
     "name": "stdout",
     "output_type": "stream",
     "text": [
      "copy_from_stringio() done\n"
     ]
    },
    {
     "data": {
      "text/plain": [
       "[(501,)]"
      ]
     },
     "execution_count": 519,
     "metadata": {},
     "output_type": "execute_result"
    }
   ],
   "source": [
    "copy_from_stringio(conn, df_photo_tags, 'df_photo_tags')\n",
    "#copy_from_stringio() done\n",
    "# Check that the values were indeed inserted\n",
    "execute_query(conn, \"select count(*) from df_photo_tags;\")"
   ]
  },
  {
   "cell_type": "code",
   "execution_count": 532,
   "id": "d8cdf4d4",
   "metadata": {},
   "outputs": [
    {
     "data": {
      "text/plain": [
       "[(80, 'Darby_Herzog', datetime.datetime(2016, 5, 6, 0, 14)),\n",
       " (67, 'Emilio_Bernier52', datetime.datetime(2016, 5, 6, 13, 4)),\n",
       " (63, 'Elenor88', datetime.datetime(2016, 5, 8, 1, 30)),\n",
       " (95, 'Nicole71', datetime.datetime(2016, 5, 9, 17, 30)),\n",
       " (38, 'Jordyn.Jacobson2', datetime.datetime(2016, 5, 14, 7, 56))]"
      ]
     },
     "execution_count": 532,
     "metadata": {},
     "output_type": "execute_result"
    }
   ],
   "source": [
    "#finding five oldes subscribers\n",
    "execute_query(conn, \"SELECT * FROM df_users order by created_at limit 5;\")"
   ]
  },
  {
   "cell_type": "code",
   "execution_count": 545,
   "id": "99d98c1b",
   "metadata": {},
   "outputs": [],
   "source": [
    "# Error: syntax error at or near \"*\"\n",
    "# LINE 1: SELECT * FROM * from df_users order by created_at;\n",
    "#what day of the week most users register on ?\n"
   ]
  },
  {
   "cell_type": "code",
   "execution_count": 544,
   "id": "8a344f7d",
   "metadata": {},
   "outputs": [
    {
     "data": {
      "text/plain": [
       "[('Thursday ', 16),\n",
       " ('Sunday   ', 16),\n",
       " ('Friday   ', 15),\n",
       " ('Monday   ', 14),\n",
       " ('Tuesday  ', 14),\n",
       " ('Wednesday', 13),\n",
       " ('Saturday ', 12)]"
      ]
     },
     "execution_count": 544,
     "metadata": {},
     "output_type": "execute_result"
    }
   ],
   "source": [
    "execute_query(conn, \"SELECT to_char(created_at, 'Day') AS day_of_week, count(*) as total FROM df_users GROUP BY day_of_week ORDER BY total DESC;\")\n"
   ]
  },
  {
   "cell_type": "code",
   "execution_count": 546,
   "id": "ec77017d",
   "metadata": {},
   "outputs": [
    {
     "data": {
      "text/plain": [
       "[('Tierra.Trantow',),\n",
       " ('Mike.Auer39',),\n",
       " ('Jessyca_West',),\n",
       " ('Julien_Schmidt',),\n",
       " ('Pearl7',),\n",
       " ('Nia_Haag',),\n",
       " ('Bartholome.Bernhard',),\n",
       " ('Bethany20',),\n",
       " ('Rocio33',),\n",
       " ('Aniya_Hackett',),\n",
       " ('Maxwell.Halvorson',),\n",
       " ('Franco_Keebler64',),\n",
       " ('Darby_Herzog',),\n",
       " ('Janelle.Nikolaus81',),\n",
       " ('Esther.Zulauf61',),\n",
       " ('Esmeralda.Mraz57',),\n",
       " ('Hulda.Macejkovic',),\n",
       " ('Mckenna17',),\n",
       " ('Duane60',),\n",
       " ('Ollie_Ledner37',),\n",
       " ('Linnea59',),\n",
       " ('Morgan.Kassulke',),\n",
       " ('David.Osinski47',),\n",
       " ('Leslie67',),\n",
       " ('Jaclyn81',),\n",
       " ('Kasandra_Homenick',)]"
      ]
     },
     "execution_count": 546,
     "metadata": {},
     "output_type": "execute_result"
    }
   ],
   "source": [
    "execute_query(conn, \"select username from df_users left join df_photos on df_users.id = df_photos.user_id where df_photos.id is null;\")\n",
    "\n"
   ]
  },
  {
   "cell_type": "code",
   "execution_count": 49,
   "id": "592b01df",
   "metadata": {},
   "outputs": [
    {
     "data": {
      "text/plain": [
       "[(2,)]"
      ]
     },
     "execution_count": 49,
     "metadata": {},
     "output_type": "execute_result"
    }
   ],
   "source": [
    "# average number of photos posted by a user\n",
    "execute_query(conn, \"select(select count(*) from df_photos)/(select count(*) from df_users);\")\n"
   ]
  },
  {
   "cell_type": "code",
   "execution_count": 52,
   "id": "5a6d0dde",
   "metadata": {},
   "outputs": [
    {
     "data": {
      "text/plain": [
       "[('Leslie67', 257),\n",
       " ('Mike.Auer39', 257),\n",
       " ('Rocio33', 257),\n",
       " ('Janelle.Nikolaus81', 257),\n",
       " ('Duane60', 257),\n",
       " ('Nia_Haag', 257),\n",
       " ('Aniya_Hackett', 257),\n",
       " ('Ollie_Ledner37', 257),\n",
       " ('Mckenna17', 257),\n",
       " ('Jaclyn81', 257),\n",
       " ('Maxwell.Halvorson', 257),\n",
       " ('Bethany20', 257),\n",
       " ('Julien_Schmidt', 257)]"
      ]
     },
     "execution_count": 52,
     "metadata": {},
     "output_type": "execute_result"
    }
   ],
   "source": [
    "execute_query(conn, \"SELECT df_users.username, COUNT(*) AS num_likes FROM df_users INNER JOIN df_likes ON df_users.id = df_likes.user_id GROUP BY df_users.username HAVING COUNT(*) = (SELECT COUNT(*) FROM df_photos);\")\n",
    "\n",
    "\n"
   ]
  },
  {
   "cell_type": "code",
   "execution_count": 53,
   "id": "b9054280",
   "metadata": {},
   "outputs": [
    {
     "data": {
      "text/plain": [
       "[('Leslie67', 257),\n",
       " ('Mike.Auer39', 257),\n",
       " ('Rocio33', 257),\n",
       " ('Janelle.Nikolaus81', 257),\n",
       " ('Duane60', 257),\n",
       " ('Nia_Haag', 257),\n",
       " ('Aniya_Hackett', 257),\n",
       " ('Ollie_Ledner37', 257),\n",
       " ('Mckenna17', 257),\n",
       " ('Jaclyn81', 257),\n",
       " ('Maxwell.Halvorson', 257),\n",
       " ('Bethany20', 257),\n",
       " ('Julien_Schmidt', 257)]"
      ]
     },
     "execution_count": 53,
     "metadata": {},
     "output_type": "execute_result"
    }
   ],
   "source": [
    "# users who have liked every single photo\n",
    "execute_query(conn, \"SELECT df_users.username, COUNT(*) AS num_likes FROM df_users INNER JOIN df_likes ON df_users.id = df_likes.user_id GROUP BY df_users.username HAVING COUNT(*) = (SELECT COUNT(*) FROM df_photos);\")\n",
    "\n",
    "\n",
    "\n",
    "\n"
   ]
  },
  {
   "cell_type": "code",
   "execution_count": 54,
   "id": "4c9b39dc",
   "metadata": {},
   "outputs": [
    {
     "data": {
      "text/plain": [
       "[('smile', 59),\n",
       " ('beach', 42),\n",
       " ('party', 39),\n",
       " ('fun', 38),\n",
       " ('concert', 24),\n",
       " ('lol', 24),\n",
       " ('food', 24),\n",
       " ('hair', 23),\n",
       " ('happy', 22),\n",
       " ('dreamy', 20)]"
      ]
     },
     "execution_count": 54,
     "metadata": {},
     "output_type": "execute_result"
    }
   ],
   "source": [
    "# most used tags\n",
    "execute_query(conn, \"select tags.tag_name, count(*) as total from tags inner join df_photo_tags on  tags.id = df_photo_tags.tag_id group by tags.id order by total desc limit 10;\")\n",
    "\n",
    "\n",
    "\n"
   ]
  },
  {
   "cell_type": "code",
   "execution_count": 55,
   "id": "ef7dff9f",
   "metadata": {},
   "outputs": [
    {
     "data": {
      "text/plain": [
       "[('Tierra.Trantow',),\n",
       " ('Jessyca_West',),\n",
       " ('Pearl7',),\n",
       " ('Florence99',),\n",
       " ('Bartholome.Bernhard',),\n",
       " ('Donald.Fritsch',),\n",
       " ('Franco_Keebler64',),\n",
       " ('Darby_Herzog',),\n",
       " ('Mariano_Koch3',),\n",
       " ('Esther.Zulauf61',),\n",
       " ('Esmeralda.Mraz57',),\n",
       " ('Cesar93',),\n",
       " ('Hulda.Macejkovic',),\n",
       " ('Jaime53',),\n",
       " ('Linnea59',),\n",
       " ('Eveline95',),\n",
       " ('Aurelie71',),\n",
       " ('Kenton_Kirlin',),\n",
       " ('Delfina_VonRueden68',),\n",
       " ('Morgan.Kassulke',),\n",
       " ('David.Osinski47',),\n",
       " ('Clint27',),\n",
       " ('Kasandra_Homenick',)]"
      ]
     },
     "execution_count": 55,
     "metadata": {},
     "output_type": "execute_result"
    }
   ],
   "source": [
    "#users who have never commented on a photo\n",
    "execute_query(conn, \"select username from df_users left join df_comments on df_users.id = df_comments.user_id where df_comments.comment_text is null;\")\n",
    "\n",
    "\n",
    "\n",
    "\n"
   ]
  },
  {
   "cell_type": "code",
   "execution_count": 56,
   "id": "7654ebd5",
   "metadata": {},
   "outputs": [
    {
     "data": {
      "text/plain": [
       "[(145, 48, 52, 'Zack_Kemmer93'),\n",
       " (127, 43, 46, 'Malinda_Streich'),\n",
       " (182, 43, 65, 'Adelle96'),\n",
       " (123, 42, 44, 'Seth46'),\n",
       " (147, 41, 55, 'Meggie_Doyle'),\n",
       " (52, 41, 16, 'Annalise.McKenzie16'),\n",
       " (192, 41, 72, 'Kathryn80'),\n",
       " (61, 41, 20, 'Delpha.Kihn'),\n",
       " (256, 41, 100, 'Javonte83'),\n",
       " (30, 41, 10, 'Presley_McClure'),\n",
       " (174, 41, 63, 'Elenor88'),\n",
       " (244, 40, 94, 'Damon35'),\n",
       " (13, 40, 3, 'Harley_Lind18'),\n",
       " (97, 40, 32, 'Irwin.Larson'),\n",
       " (161, 40, 59, 'Cesar93'),\n",
       " (153, 40, 58, 'Aurelie71'),\n",
       " (119, 39, 43, 'Janet.Armstrong'),\n",
       " (62, 39, 22, 'Kenneth64'),\n",
       " (199, 39, 77, 'Donald.Fritsch'),\n",
       " (144, 39, 52, 'Zack_Kemmer93'),\n",
       " (201, 39, 77, 'Donald.Fritsch'),\n",
       " (227, 39, 87, 'Rick29'),\n",
       " (110, 39, 39, 'Kelsi26'),\n",
       " (118, 39, 43, 'Janet.Armstrong'),\n",
       " (180, 39, 64, 'Florence99'),\n",
       " (66, 39, 23, 'Eveline95'),\n",
       " (44, 39, 13, 'Alexandro35'),\n",
       " (107, 39, 37, 'Yazmin_Mills95'),\n",
       " (100, 39, 33, 'Yvette.Gottlieb91'),\n",
       " (205, 39, 78, 'Colten.Harris76'),\n",
       " (37, 38, 11, 'Justina.Gaylord27'),\n",
       " (162, 38, 59, 'Cesar93'),\n",
       " (183, 38, 65, 'Adelle96'),\n",
       " (150, 38, 58, 'Aurelie71'),\n",
       " (81, 38, 28, 'Dario77'),\n",
       " (155, 38, 58, 'Aurelie71'),\n",
       " (41, 38, 12, 'Dereck65'),\n",
       " (7, 38, 2, 'Andre_Purdy85'),\n",
       " (4, 38, 1, 'Kenton_Kirlin'),\n",
       " (23, 38, 8, 'Tabitha_Schamberger11'),\n",
       " (210, 38, 82, 'Aracely.Johnston98'),\n",
       " (197, 38, 77, 'Donald.Fritsch'),\n",
       " (196, 38, 73, 'Jaylan.Lakin'),\n",
       " (69, 38, 23, 'Eveline95'),\n",
       " (63, 38, 23, 'Eveline95'),\n",
       " (3, 38, 1, 'Kenton_Kirlin'),\n",
       " (169, 38, 61, 'Jayson65'),\n",
       " (225, 37, 87, 'Rick29'),\n",
       " (43, 37, 13, 'Alexandro35'),\n",
       " (230, 37, 88, 'Clint27'),\n",
       " (57, 37, 17, 'Norbert_Carroll35'),\n",
       " (198, 37, 77, 'Donald.Fritsch'),\n",
       " (49, 37, 15, 'Billy52'),\n",
       " (16, 37, 4, 'Arely_Bogan63'),\n",
       " (71, 37, 23, 'Eveline95'),\n",
       " (248, 37, 96, 'Keenan.Schamberger60'),\n",
       " (212, 37, 84, 'Alysa22'),\n",
       " (59, 37, 19, 'Hailee26'),\n",
       " (203, 37, 78, 'Colten.Harris76'),\n",
       " (120, 37, 44, 'Seth46'),\n",
       " (241, 37, 92, 'Frederik_Rice'),\n",
       " (42, 37, 13, 'Alexandro35'),\n",
       " (178, 37, 64, 'Florence99'),\n",
       " (133, 37, 48, 'Granville_Kutch'),\n",
       " (40, 37, 12, 'Dereck65'),\n",
       " (87, 37, 29, 'Jaime53'),\n",
       " (190, 36, 70, 'Erick5'),\n",
       " (17, 36, 6, 'Travon.Waters'),\n",
       " (101, 36, 33, 'Yvette.Gottlieb91'),\n",
       " (257, 36, 100, 'Javonte83'),\n",
       " (28, 36, 9, 'Gus93'),\n",
       " (171, 36, 62, 'Ressie_Stanton46'),\n",
       " (166, 36, 59, 'Cesar93'),\n",
       " (211, 36, 84, 'Alysa22'),\n",
       " (113, 36, 42, 'Maya.Farrell'),\n",
       " (21, 36, 6, 'Travon.Waters'),\n",
       " (85, 36, 29, 'Jaime53'),\n",
       " (90, 36, 29, 'Jaime53'),\n",
       " (189, 36, 69, 'Karley_Bosco'),\n",
       " (2, 36, 1, 'Kenton_Kirlin'),\n",
       " (58, 36, 18, 'Odessa2'),\n",
       " (186, 36, 67, 'Emilio_Bernier52'),\n",
       " (25, 36, 8, 'Tabitha_Schamberger11'),\n",
       " (222, 36, 86, 'Delfina_VonRueden68'),\n",
       " (53, 36, 16, 'Annalise.McKenzie16'),\n",
       " (177, 36, 64, 'Florence99'),\n",
       " (56, 36, 17, 'Norbert_Carroll35'),\n",
       " (106, 36, 35, 'Lennie_Hartmann40'),\n",
       " (116, 36, 43, 'Janet.Armstrong'),\n",
       " (206, 35, 78, 'Colten.Harris76'),\n",
       " (232, 35, 88, 'Clint27'),\n",
       " (137, 35, 51, 'Mariano_Koch3'),\n",
       " (48, 35, 15, 'Billy52'),\n",
       " (84, 35, 28, 'Dario77'),\n",
       " (158, 35, 59, 'Cesar93'),\n",
       " (181, 35, 65, 'Adelle96'),\n",
       " (24, 35, 8, 'Tabitha_Schamberger11'),\n",
       " (14, 35, 4, 'Arely_Bogan63'),\n",
       " (82, 35, 28, 'Dario77'),\n",
       " (112, 35, 42, 'Maya.Farrell'),\n",
       " (103, 35, 33, 'Yvette.Gottlieb91'),\n",
       " (234, 35, 88, 'Clint27'),\n",
       " (213, 35, 85, 'Milford_Gleichner42'),\n",
       " (243, 35, 93, 'Willie_Leuschke'),\n",
       " (19, 35, 6, 'Travon.Waters'),\n",
       " (204, 35, 78, 'Colten.Harris76'),\n",
       " (36, 35, 11, 'Justina.Gaylord27'),\n",
       " (136, 35, 50, 'Gerard79'),\n",
       " (117, 35, 43, 'Janet.Armstrong'),\n",
       " (67, 35, 23, 'Eveline95'),\n",
       " (55, 35, 17, 'Norbert_Carroll35'),\n",
       " (77, 35, 26, 'Josianne.Friesen'),\n",
       " (20, 35, 6, 'Travon.Waters'),\n",
       " (126, 35, 46, 'Malinda_Streich'),\n",
       " (80, 35, 27, 'Darwin29'),\n",
       " (141, 34, 51, 'Mariano_Koch3'),\n",
       " (128, 34, 47, 'Harrison.Beatty50'),\n",
       " (102, 34, 33, 'Yvette.Gottlieb91'),\n",
       " (249, 34, 96, 'Keenan.Schamberger60'),\n",
       " (86, 34, 29, 'Jaime53'),\n",
       " (46, 34, 13, 'Alexandro35'),\n",
       " (221, 34, 86, 'Delfina_VonRueden68'),\n",
       " (94, 34, 30, 'Kaley9'),\n",
       " (231, 34, 88, 'Clint27'),\n",
       " (91, 34, 29, 'Jaime53'),\n",
       " (45, 34, 13, 'Alexandro35'),\n",
       " (121, 34, 44, 'Seth46'),\n",
       " (235, 34, 88, 'Clint27'),\n",
       " (200, 34, 77, 'Donald.Fritsch'),\n",
       " (217, 34, 86, 'Delfina_VonRueden68'),\n",
       " (64, 34, 23, 'Eveline95'),\n",
       " (252, 34, 98, 'Imani_Nicolas17'),\n",
       " (170, 34, 62, 'Ressie_Stanton46'),\n",
       " (173, 34, 63, 'Elenor88'),\n",
       " (68, 34, 23, 'Eveline95'),\n",
       " (138, 34, 51, 'Mariano_Koch3'),\n",
       " (79, 34, 26, 'Josianne.Friesen'),\n",
       " (154, 34, 58, 'Aurelie71'),\n",
       " (15, 34, 4, 'Arely_Bogan63'),\n",
       " (233, 34, 88, 'Clint27'),\n",
       " (78, 34, 26, 'Josianne.Friesen'),\n",
       " (39, 34, 12, 'Dereck65'),\n",
       " (149, 34, 58, 'Aurelie71'),\n",
       " (99, 34, 32, 'Irwin.Larson'),\n",
       " (98, 34, 32, 'Irwin.Larson'),\n",
       " (70, 34, 23, 'Eveline95'),\n",
       " (124, 34, 46, 'Malinda_Streich'),\n",
       " (209, 34, 82, 'Aracely.Johnston98'),\n",
       " (74, 34, 23, 'Eveline95'),\n",
       " (134, 34, 50, 'Gerard79'),\n",
       " (32, 33, 10, 'Presley_McClure'),\n",
       " (148, 33, 56, 'Peter.Stehr0'),\n",
       " (125, 33, 46, 'Malinda_Streich'),\n",
       " (88, 33, 29, 'Jaime53'),\n",
       " (109, 33, 38, 'Jordyn.Jacobson2'),\n",
       " (185, 33, 65, 'Adelle96'),\n",
       " (29, 33, 9, 'Gus93'),\n",
       " (242, 33, 93, 'Willie_Leuschke'),\n",
       " (226, 33, 87, 'Rick29'),\n",
       " (111, 33, 40, 'Rafael.Hickle2'),\n",
       " (11, 33, 3, 'Harley_Lind18'),\n",
       " (220, 33, 86, 'Delfina_VonRueden68'),\n",
       " (105, 33, 35, 'Lennie_Hartmann40'),\n",
       " (245, 33, 95, 'Nicole71'),\n",
       " (65, 33, 23, 'Eveline95'),\n",
       " (140, 33, 51, 'Mariano_Koch3'),\n",
       " (146, 33, 52, 'Zack_Kemmer93'),\n",
       " (122, 33, 44, 'Seth46'),\n",
       " (152, 33, 58, 'Aurelie71'),\n",
       " (72, 33, 23, 'Eveline95'),\n",
       " (163, 33, 59, 'Cesar93'),\n",
       " (255, 33, 99, 'Alek_Watsica'),\n",
       " (157, 33, 59, 'Cesar93'),\n",
       " (176, 33, 64, 'Florence99'),\n",
       " (75, 33, 26, 'Josianne.Friesen'),\n",
       " (76, 32, 26, 'Josianne.Friesen'),\n",
       " (60, 32, 19, 'Hailee26'),\n",
       " (35, 32, 11, 'Justina.Gaylord27'),\n",
       " (164, 32, 59, 'Cesar93'),\n",
       " (172, 32, 63, 'Elenor88'),\n",
       " (237, 32, 88, 'Clint27'),\n",
       " (218, 32, 86, 'Delfina_VonRueden68'),\n",
       " (142, 32, 52, 'Zack_Kemmer93'),\n",
       " (229, 32, 88, 'Clint27'),\n",
       " (219, 32, 86, 'Delfina_VonRueden68'),\n",
       " (253, 32, 99, 'Alek_Watsica'),\n",
       " (34, 32, 11, 'Justina.Gaylord27'),\n",
       " (89, 32, 29, 'Jaime53'),\n",
       " (96, 32, 32, 'Irwin.Larson'),\n",
       " (114, 32, 42, 'Maya.Farrell'),\n",
       " (151, 32, 58, 'Aurelie71'),\n",
       " (168, 32, 60, 'Sam52'),\n",
       " (54, 31, 16, 'Annalise.McKenzie16'),\n",
       " (93, 31, 30, 'Kaley9'),\n",
       " (18, 31, 6, 'Travon.Waters'),\n",
       " (73, 31, 23, 'Eveline95'),\n",
       " (5, 31, 1, 'Kenton_Kirlin'),\n",
       " (207, 31, 78, 'Colten.Harris76'),\n",
       " (31, 31, 10, 'Presley_McClure'),\n",
       " (239, 31, 92, 'Frederik_Rice'),\n",
       " (27, 31, 9, 'Gus93'),\n",
       " (83, 31, 28, 'Dario77'),\n",
       " (254, 31, 99, 'Alek_Watsica'),\n",
       " (202, 31, 77, 'Donald.Fritsch'),\n",
       " (6, 31, 2, 'Andre_Purdy85'),\n",
       " (191, 31, 72, 'Kathryn80'),\n",
       " (160, 31, 59, 'Cesar93'),\n",
       " (115, 31, 43, 'Janet.Armstrong'),\n",
       " (9, 31, 2, 'Andre_Purdy85'),\n",
       " (228, 31, 88, 'Clint27'),\n",
       " (104, 31, 33, 'Yvette.Gottlieb91'),\n",
       " (250, 31, 97, 'Tomas.Beatty93'),\n",
       " (167, 31, 60, 'Sam52'),\n",
       " (38, 31, 12, 'Dereck65'),\n",
       " (187, 31, 67, 'Emilio_Bernier52'),\n",
       " (224, 31, 87, 'Rick29'),\n",
       " (156, 31, 58, 'Aurelie71'),\n",
       " (246, 31, 95, 'Nicole71'),\n",
       " (159, 31, 59, 'Cesar93'),\n",
       " (184, 30, 65, 'Adelle96'),\n",
       " (143, 30, 52, 'Zack_Kemmer93'),\n",
       " (26, 30, 9, 'Gus93'),\n",
       " (47, 30, 15, 'Billy52'),\n",
       " (240, 30, 92, 'Frederik_Rice'),\n",
       " (179, 30, 64, 'Florence99'),\n",
       " (188, 30, 67, 'Emilio_Bernier52'),\n",
       " (236, 30, 88, 'Clint27'),\n",
       " (193, 30, 72, 'Kathryn80'),\n",
       " (10, 30, 3, 'Harley_Lind18'),\n",
       " (216, 30, 86, 'Delfina_VonRueden68'),\n",
       " (132, 30, 47, 'Harrison.Beatty50'),\n",
       " (135, 29, 50, 'Gerard79'),\n",
       " (215, 29, 86, 'Delfina_VonRueden68'),\n",
       " (208, 29, 79, 'Katarina.Dibbert'),\n",
       " (92, 29, 29, 'Jaime53'),\n",
       " (108, 29, 38, 'Jordyn.Jacobson2'),\n",
       " (129, 29, 47, 'Harrison.Beatty50'),\n",
       " (12, 29, 3, 'Harley_Lind18'),\n",
       " (131, 29, 47, 'Harrison.Beatty50'),\n",
       " (51, 29, 16, 'Annalise.McKenzie16'),\n",
       " (130, 29, 47, 'Harrison.Beatty50'),\n",
       " (194, 29, 72, 'Kathryn80'),\n",
       " (33, 29, 11, 'Justina.Gaylord27'),\n",
       " (165, 29, 59, 'Cesar93'),\n",
       " (214, 29, 85, 'Milford_Gleichner42'),\n",
       " (251, 28, 97, 'Tomas.Beatty93'),\n",
       " (22, 28, 8, 'Tabitha_Schamberger11'),\n",
       " (175, 28, 63, 'Elenor88'),\n",
       " (247, 28, 96, 'Keenan.Schamberger60'),\n",
       " (95, 28, 31, 'Aiyana_Hoeger'),\n",
       " (8, 27, 2, 'Andre_Purdy85'),\n",
       " (139, 27, 51, 'Mariano_Koch3'),\n",
       " (238, 27, 88, 'Clint27'),\n",
       " (50, 27, 15, 'Billy52'),\n",
       " (195, 26, 72, 'Kathryn80'),\n",
       " (1, 25, 1, 'Kenton_Kirlin'),\n",
       " (223, 25, 86, 'Delfina_VonRueden68')]"
      ]
     },
     "execution_count": 56,
     "metadata": {},
     "output_type": "execute_result"
    }
   ],
   "source": [
    "# who could get most likes on a photo\n",
    "execute_query(conn, \"select photo_id, count(*) as num, df_photos.user_id, df_users.username from df_likes inner join df_photos on df_photos.id = df_likes.photo_id inner join df_users on df_photos.user_id = df_users.id group by photo_id, df_photos.user_id, df_users.username order by num desc;\")\n",
    "\n",
    "\n",
    "\n"
   ]
  },
  {
   "cell_type": "code",
   "execution_count": 57,
   "id": "6686b001",
   "metadata": {},
   "outputs": [
    {
     "data": {
      "text/plain": [
       "[(23, 12, 1),\n",
       " (88, 11, 2),\n",
       " (59, 10, 3),\n",
       " (86, 9, 4),\n",
       " (58, 8, 5),\n",
       " (29, 8, 5),\n",
       " (77, 6, 7),\n",
       " (52, 5, 8),\n",
       " (26, 5, 8),\n",
       " (43, 5, 8),\n",
       " (6, 5, 8),\n",
       " (64, 5, 8),\n",
       " (1, 5, 8),\n",
       " (33, 5, 8),\n",
       " (47, 5, 8),\n",
       " (13, 5, 8),\n",
       " (65, 5, 8),\n",
       " (78, 5, 8),\n",
       " (72, 5, 8),\n",
       " (11, 5, 8),\n",
       " (51, 5, 8),\n",
       " (16, 4, 22),\n",
       " (15, 4, 22),\n",
       " (87, 4, 22),\n",
       " (46, 4, 22),\n",
       " (63, 4, 22),\n",
       " (9, 4, 22),\n",
       " (12, 4, 22),\n",
       " (32, 4, 22),\n",
       " (44, 4, 22),\n",
       " (2, 4, 22),\n",
       " (28, 4, 22),\n",
       " (8, 4, 22),\n",
       " (3, 4, 22),\n",
       " (10, 3, 35),\n",
       " (4, 3, 35),\n",
       " (96, 3, 35),\n",
       " (67, 3, 35),\n",
       " (92, 3, 35),\n",
       " (50, 3, 35),\n",
       " (99, 3, 35),\n",
       " (42, 3, 35),\n",
       " (17, 3, 35),\n",
       " (100, 2, 44),\n",
       " (82, 2, 44),\n",
       " (85, 2, 44),\n",
       " (95, 2, 44),\n",
       " (62, 2, 44),\n",
       " (19, 2, 44),\n",
       " (30, 2, 44),\n",
       " (97, 2, 44),\n",
       " (60, 2, 44),\n",
       " (93, 2, 44),\n",
       " (84, 2, 44),\n",
       " (35, 2, 44),\n",
       " (38, 2, 44),\n",
       " (94, 1, 57),\n",
       " (39, 1, 57),\n",
       " (55, 1, 57),\n",
       " (27, 1, 57),\n",
       " (70, 1, 57),\n",
       " (37, 1, 57),\n",
       " (40, 1, 57),\n",
       " (79, 1, 57),\n",
       " (48, 1, 57),\n",
       " (31, 1, 57),\n",
       " (73, 1, 57),\n",
       " (20, 1, 57),\n",
       " (98, 1, 57),\n",
       " (69, 1, 57),\n",
       " (56, 1, 57),\n",
       " (61, 1, 57),\n",
       " (18, 1, 57),\n",
       " (22, 1, 57)]"
      ]
     },
     "execution_count": 57,
     "metadata": {},
     "output_type": "execute_result"
    }
   ],
   "source": [
    "# users rankings by postings from higher to lower\n",
    "execute_query(conn, \"SELECT user_id, COUNT(image_url) AS no_of_photos, RANK() OVER (ORDER BY COUNT(image_url) DESC) AS ranking FROM df_photos GROUP BY user_id ORDER BY no_of_photos DESC;\")\n",
    "\n",
    "\n",
    "\n",
    "\n"
   ]
  },
  {
   "cell_type": "code",
   "execution_count": 58,
   "id": "30b5bc27",
   "metadata": {},
   "outputs": [
    {
     "data": {
      "text/plain": [
       "[('Delfina_VonRueden68',),\n",
       " ('Josianne.Friesen',),\n",
       " ('Lennie_Hartmann40',),\n",
       " ('Rafael.Hickle2',),\n",
       " ('Jayson65',),\n",
       " ('Kathryn80',),\n",
       " ('Kaley9',),\n",
       " ('Granville_Kutch',),\n",
       " ('Tabitha_Schamberger11',),\n",
       " ('Annalise.McKenzie16',),\n",
       " ('Milford_Gleichner42',),\n",
       " ('Aiyana_Hoeger',),\n",
       " ('Irwin.Larson',),\n",
       " ('Harley_Lind18',),\n",
       " ('Arely_Bogan63',),\n",
       " ('Donald.Fritsch',),\n",
       " ('Kelsi26',),\n",
       " ('Meggie_Doyle',),\n",
       " ('Jaylan.Lakin',),\n",
       " ('Javonte83',),\n",
       " ('Alysa22',),\n",
       " ('Katarina.Dibbert',),\n",
       " ('Tomas.Beatty93',),\n",
       " ('Eveline95',),\n",
       " ('Cesar93',),\n",
       " ('Yazmin_Mills95',),\n",
       " ('Malinda_Streich',),\n",
       " ('Aurelie71',),\n",
       " ('Damon35',),\n",
       " ('Jaime53',),\n",
       " ('Harrison.Beatty50',),\n",
       " ('Darwin29',),\n",
       " ('Alexandro35',),\n",
       " ('Presley_McClure',),\n",
       " ('Gerard79',),\n",
       " ('Rick29',),\n",
       " ('Travon.Waters',),\n",
       " ('Kenneth64',),\n",
       " ('Ressie_Stanton46',),\n",
       " ('Zack_Kemmer93',),\n",
       " ('Janet.Armstrong',),\n",
       " ('Maya.Farrell',),\n",
       " ('Gus93',),\n",
       " ('Sam52',),\n",
       " ('Keenan.Schamberger60',),\n",
       " ('Clint27',),\n",
       " ('Alek_Watsica',),\n",
       " ('Adelle96',),\n",
       " ('Delpha.Kihn',),\n",
       " ('Nicole71',),\n",
       " ('Elenor88',),\n",
       " ('Frederik_Rice',),\n",
       " ('Mariano_Koch3',),\n",
       " ('Jordyn.Jacobson2',),\n",
       " ('Justina.Gaylord27',),\n",
       " ('Andre_Purdy85',),\n",
       " ('Odessa2',),\n",
       " ('Willie_Leuschke',),\n",
       " ('Florence99',),\n",
       " ('Imani_Nicolas17',),\n",
       " ('Colten.Harris76',),\n",
       " ('Kenton_Kirlin',),\n",
       " ('Yvette.Gottlieb91',),\n",
       " ('Dario77',),\n",
       " ('Norbert_Carroll35',),\n",
       " ('Dereck65',),\n",
       " ('Seth46',),\n",
       " ('Karley_Bosco',),\n",
       " ('Peter.Stehr0',),\n",
       " ('Aracely.Johnston98',),\n",
       " ('Erick5',),\n",
       " ('Emilio_Bernier52',),\n",
       " ('Hailee26',),\n",
       " ('Billy52',)]"
      ]
     },
     "execution_count": 58,
     "metadata": {},
     "output_type": "execute_result"
    }
   ],
   "source": [
    "# total number of users who have posted atleast one time\n",
    "execute_query(conn, \"select distinct username from df_users left join df_photos on df_users.id = df_photos.user_id where df_photos.id is not null;\")\n",
    "\n"
   ]
  },
  {
   "cell_type": "code",
   "execution_count": 59,
   "id": "0820163c",
   "metadata": {},
   "outputs": [
    {
     "data": {
      "text/plain": [
       "[('Delfina_VonRueden68',),\n",
       " ('Josianne.Friesen',),\n",
       " ('Lennie_Hartmann40',),\n",
       " ('Rafael.Hickle2',),\n",
       " ('Jayson65',),\n",
       " ('Kathryn80',),\n",
       " ('Kaley9',),\n",
       " ('Granville_Kutch',),\n",
       " ('Tabitha_Schamberger11',),\n",
       " ('Annalise.McKenzie16',),\n",
       " ('Milford_Gleichner42',),\n",
       " ('Aiyana_Hoeger',),\n",
       " ('Irwin.Larson',),\n",
       " ('Harley_Lind18',),\n",
       " ('Arely_Bogan63',),\n",
       " ('Donald.Fritsch',),\n",
       " ('Kelsi26',),\n",
       " ('Meggie_Doyle',),\n",
       " ('Jaylan.Lakin',),\n",
       " ('Javonte83',),\n",
       " ('Alysa22',),\n",
       " ('Katarina.Dibbert',),\n",
       " ('Tomas.Beatty93',),\n",
       " ('Eveline95',),\n",
       " ('Cesar93',),\n",
       " ('Yazmin_Mills95',),\n",
       " ('Malinda_Streich',),\n",
       " ('Aurelie71',),\n",
       " ('Damon35',),\n",
       " ('Jaime53',),\n",
       " ('Harrison.Beatty50',),\n",
       " ('Darwin29',),\n",
       " ('Alexandro35',),\n",
       " ('Presley_McClure',),\n",
       " ('Gerard79',),\n",
       " ('Rick29',),\n",
       " ('Travon.Waters',),\n",
       " ('Kenneth64',),\n",
       " ('Ressie_Stanton46',),\n",
       " ('Zack_Kemmer93',),\n",
       " ('Janet.Armstrong',),\n",
       " ('Maya.Farrell',),\n",
       " ('Gus93',),\n",
       " ('Sam52',),\n",
       " ('Keenan.Schamberger60',),\n",
       " ('Clint27',),\n",
       " ('Alek_Watsica',),\n",
       " ('Adelle96',),\n",
       " ('Delpha.Kihn',),\n",
       " ('Nicole71',),\n",
       " ('Elenor88',),\n",
       " ('Frederik_Rice',),\n",
       " ('Mariano_Koch3',),\n",
       " ('Jordyn.Jacobson2',),\n",
       " ('Justina.Gaylord27',),\n",
       " ('Andre_Purdy85',),\n",
       " ('Odessa2',),\n",
       " ('Willie_Leuschke',),\n",
       " ('Florence99',),\n",
       " ('Imani_Nicolas17',),\n",
       " ('Colten.Harris76',),\n",
       " ('Kenton_Kirlin',),\n",
       " ('Yvette.Gottlieb91',),\n",
       " ('Dario77',),\n",
       " ('Norbert_Carroll35',),\n",
       " ('Dereck65',),\n",
       " ('Seth46',),\n",
       " ('Karley_Bosco',),\n",
       " ('Peter.Stehr0',),\n",
       " ('Aracely.Johnston98',),\n",
       " ('Erick5',),\n",
       " ('Emilio_Bernier52',),\n",
       " ('Hailee26',),\n",
       " ('Billy52',)]"
      ]
     },
     "execution_count": 59,
     "metadata": {},
     "output_type": "execute_result"
    }
   ],
   "source": [
    "# users who have ever commented\n",
    "execute_query(conn, \"select distinct username from df_users left join df_photos on df_users.id = df_photos.user_id where df_photos.id is not null;\")\n",
    "\n",
    "\n"
   ]
  },
  {
   "cell_type": "code",
   "execution_count": 61,
   "id": "0eefcfab",
   "metadata": {},
   "outputs": [
    {
     "data": {
      "text/plain": [
       "[('Aurelie71', 'Not commented on any photo'),\n",
       " ('Bartholome.Bernhard', 'Not commented on any photo'),\n",
       " ('Cesar93', 'Not commented on any photo'),\n",
       " ('Clint27', 'Not commented on any photo'),\n",
       " ('Darby_Herzog', 'Not commented on any photo'),\n",
       " ('David.Osinski47', 'Not commented on any photo'),\n",
       " ('Delfina_VonRueden68', 'Not commented on any photo'),\n",
       " ('Donald.Fritsch', 'Not commented on any photo'),\n",
       " ('Esmeralda.Mraz57', 'Not commented on any photo'),\n",
       " ('Esther.Zulauf61', 'Not commented on any photo'),\n",
       " ('Eveline95', 'Not commented on any photo'),\n",
       " ('Florence99', 'Not commented on any photo'),\n",
       " ('Franco_Keebler64', 'Not commented on any photo'),\n",
       " ('Hulda.Macejkovic', 'Not commented on any photo'),\n",
       " ('Jaime53', 'Not commented on any photo'),\n",
       " ('Jessyca_West', 'Not commented on any photo'),\n",
       " ('Kasandra_Homenick', 'Not commented on any photo'),\n",
       " ('Kenton_Kirlin', 'Not commented on any photo'),\n",
       " ('Linnea59', 'Not commented on any photo'),\n",
       " ('Mariano_Koch3', 'Not commented on any photo'),\n",
       " ('Morgan.Kassulke', 'Not commented on any photo'),\n",
       " ('Pearl7', 'Not commented on any photo'),\n",
       " ('Tierra.Trantow', 'Not commented on any photo')]"
      ]
     },
     "execution_count": 61,
     "metadata": {},
     "output_type": "execute_result"
    }
   ],
   "source": [
    "execute_query(conn, \"SELECT df_users.username, 'Commented on every photo' AS status FROM df_users INNER JOIN df_comments ON df_users.id = df_comments.user_id GROUP BY df_users.username HAVING COUNT(*) = (SELECT COUNT(*) FROM df_comments) UNION SELECT df_users.username, 'Not commented on any photo' AS status FROM df_users LEFT JOIN df_comments ON df_users.id = df_comments.user_id GROUP BY df_users.username HAVING COUNT(df_comments.comment_text) = 0;\")\n",
    "\n"
   ]
  },
  {
   "cell_type": "code",
   "execution_count": 249,
   "id": "da00b36b",
   "metadata": {},
   "outputs": [],
   "source": []
  },
  {
   "cell_type": "code",
   "execution_count": 250,
   "id": "4fb6624b",
   "metadata": {},
   "outputs": [],
   "source": []
  },
  {
   "cell_type": "code",
   "execution_count": 251,
   "id": "397b2590",
   "metadata": {},
   "outputs": [],
   "source": []
  },
  {
   "cell_type": "code",
   "execution_count": 252,
   "id": "4562eed9",
   "metadata": {},
   "outputs": [],
   "source": []
  },
  {
   "cell_type": "code",
   "execution_count": 253,
   "id": "f48a0f98",
   "metadata": {},
   "outputs": [],
   "source": []
  },
  {
   "cell_type": "code",
   "execution_count": null,
   "id": "efa23447",
   "metadata": {},
   "outputs": [],
   "source": []
  },
  {
   "cell_type": "code",
   "execution_count": null,
   "id": "74e63977",
   "metadata": {},
   "outputs": [],
   "source": []
  },
  {
   "cell_type": "code",
   "execution_count": 254,
   "id": "c9d83d1d",
   "metadata": {},
   "outputs": [],
   "source": []
  },
  {
   "cell_type": "code",
   "execution_count": 255,
   "id": "f72962d9",
   "metadata": {},
   "outputs": [],
   "source": []
  },
  {
   "cell_type": "code",
   "execution_count": 256,
   "id": "3754d6eb",
   "metadata": {},
   "outputs": [],
   "source": []
  },
  {
   "cell_type": "code",
   "execution_count": 257,
   "id": "b3a28545",
   "metadata": {},
   "outputs": [],
   "source": []
  },
  {
   "cell_type": "code",
   "execution_count": 258,
   "id": "e44b3c76",
   "metadata": {},
   "outputs": [],
   "source": []
  },
  {
   "cell_type": "code",
   "execution_count": 259,
   "id": "a7ea43b5",
   "metadata": {},
   "outputs": [],
   "source": []
  },
  {
   "cell_type": "code",
   "execution_count": 260,
   "id": "669b07ab",
   "metadata": {},
   "outputs": [],
   "source": []
  },
  {
   "cell_type": "code",
   "execution_count": 261,
   "id": "2011eb27",
   "metadata": {},
   "outputs": [],
   "source": []
  },
  {
   "cell_type": "code",
   "execution_count": 262,
   "id": "6d184d54",
   "metadata": {},
   "outputs": [],
   "source": []
  }
 ],
 "metadata": {
  "kernelspec": {
   "display_name": "Python 3 (ipykernel)",
   "language": "python",
   "name": "python3"
  },
  "language_info": {
   "codemirror_mode": {
    "name": "ipython",
    "version": 3
   },
   "file_extension": ".py",
   "mimetype": "text/x-python",
   "name": "python",
   "nbconvert_exporter": "python",
   "pygments_lexer": "ipython3",
   "version": "3.11.1"
  }
 },
 "nbformat": 4,
 "nbformat_minor": 5
}
